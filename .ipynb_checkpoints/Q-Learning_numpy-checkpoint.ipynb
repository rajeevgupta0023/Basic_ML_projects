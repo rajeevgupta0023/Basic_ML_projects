{
 "cells": [
  {
   "cell_type": "code",
   "execution_count": 1,
   "id": "07c56469",
   "metadata": {},
   "outputs": [],
   "source": [
    "# only numpy\n",
    "import numpy as np"
   ]
  },
  {
   "cell_type": "code",
   "execution_count": 2,
   "id": "de68c30f",
   "metadata": {},
   "outputs": [],
   "source": [
    "# initialize parameter\n",
    "gamma = 0.75 # Discount factor\n",
    "alpha = 0.9 # Learning rate"
   ]
  },
  {
   "cell_type": "code",
   "execution_count": 3,
   "id": "79d2f64c",
   "metadata": {},
   "outputs": [],
   "source": [
    "# Define the states and map it to numbers\n",
    "location_to_state = {\n",
    "    'L1':0,\n",
    "    'L2':1,\n",
    "    'L3':2,\n",
    "    'L4':3,\n",
    "    'L5':4,\n",
    "    'L6':5,\n",
    "    'L7':6,\n",
    "    'L8':7,\n",
    "    'L9':8 \n",
    "}"
   ]
  },
  {
   "cell_type": "code",
   "execution_count": 4,
   "id": "f6b3053d",
   "metadata": {},
   "outputs": [],
   "source": [
    "# define the actions\n",
    "actions = [0,1,2,3,4,5,6,7,8]"
   ]
  },
  {
   "cell_type": "code",
   "execution_count": 14,
   "id": "0a9b03fd",
   "metadata": {},
   "outputs": [],
   "source": [
    "# Define the rewards\n",
    "rewards = np.array ([[0,1,0,0,0,0,0,0,0],\n",
    "                    [1,0,1,0,0,0,0,0,0],\n",
    "                    [0,1,0,0,0,1,0,0,0],\n",
    "                    [0,0,0,0,0,0,1,0,0],\n",
    "                    [0,1,0,0,0,0,0,1,0],\n",
    "                    [0,0,1,0,0,0,0,0,0],\n",
    "                    [0,0,0,1,0,0,0,1,0],\n",
    "                    [0,0,0,0,1,0,1,0,1],\n",
    "                    [0,0,0,0,0,0,0,1,0]])"
   ]
  },
  {
   "cell_type": "code",
   "execution_count": 18,
   "id": "a9c6493c",
   "metadata": {},
   "outputs": [],
   "source": [
    "#maps indices to locations\n",
    "state_to_location = dict((state,location) for location,state in location_to_state.items())\n"
   ]
  },
  {
   "cell_type": "code",
   "execution_count": 19,
   "id": "3cee5618",
   "metadata": {},
   "outputs": [],
   "source": [
    "def get_optimal_route(start_location, end_location):\n",
    "    # Copy the rewards matrix to new Matrix\n",
    "    rewards_new = np.copy(rewards)\n",
    "    # get the ending state corresponding to the ending location as given\n",
    "    ending_state = location_to_state[end_location]\n",
    "    # With the above information automatically set the priority of the given ending state to the highest one\n",
    "    rewards_new[ending_state, ending_state] = 999\n",
    "\n",
    "    # ------------- Q-Learning algo -------------\n",
    "\n",
    "    # Initializing Q-Values\n",
    "    Q = np.array(np.zeros([9, 9]))\n",
    "\n",
    "    # Q-learning process\n",
    "    for i in range(1000):\n",
    "        # Pick up a state randomly\n",
    "        current_state = np.random.randint(0, 9)  # Python excludes the upper bound\n",
    "        # For traversing through the neighbor locations in the maze\n",
    "        playable_actions = []\n",
    "        # Iterate through the new rewards matrix and get the actions > 0\n",
    "        for j in range(9):\n",
    "            if rewards_new[current_state, j] > 0:\n",
    "                playable_actions.append(j)\n",
    "        # Pick an action randomly from the list of playable actions leading us to the next state\n",
    "        next_state = np.random.choice(playable_actions)\n",
    "        # Compute the temporal difference\n",
    "        # The action here exactly refers to going to the next state\n",
    "        TD = rewards_new[current_state, next_state] + gamma * Q[next_state, np.argmax(Q[next_state,])] - Q[\n",
    "            current_state, next_state]\n",
    "        # update the Q-Value using the Bellman equation\n",
    "        Q[current_state, next_state] += alpha * TD\n",
    "\n",
    "        # Initialize the optimal route with the starting Location\n",
    "        route = [start_location]\n",
    "        # We do not know about the next location yet, so initialize with the value of starting Location\n",
    "        next_location = start_location\n",
    "\n",
    "        # We don't know about the exact number of iterations needed to reach to the final location hence while loop will be a good choice\n",
    "        while (next_location != end_location):\n",
    "            # Fetch the starting state\n",
    "            starting_state = location_to_state[start_location]\n",
    "            # Fetch the highest Q-value pertaining to starting state\n",
    "            next_state = np.argmax(Q[starting_state,])\n",
    "            # We got the index of the next state but we need the corresponding letter\n",
    "            next_location = state_to_location[next_state]\n",
    "            route.append(next_location)\n",
    "            # Update the starting location for the next iteartion\n",
    "            start_location = next_location\n",
    "\n",
    "        return route"
   ]
  },
  {
   "cell_type": "code",
   "execution_count": 20,
   "id": "3f90c9b4",
   "metadata": {},
   "outputs": [
    {
     "name": "stdout",
     "output_type": "stream",
     "text": [
      "['L9', 'L1']\n"
     ]
    }
   ],
   "source": [
    "print(get_optimal_route('L9', 'L1'))\n",
    "#there is some issue it's not printing complete path"
   ]
  },
  {
   "cell_type": "code",
   "execution_count": null,
   "id": "f53c0b3f",
   "metadata": {},
   "outputs": [],
   "source": []
  },
  {
   "cell_type": "code",
   "execution_count": null,
   "id": "e5a6db62",
   "metadata": {},
   "outputs": [],
   "source": []
  }
 ],
 "metadata": {
  "kernelspec": {
   "display_name": "Python 3",
   "language": "python",
   "name": "python3"
  },
  "language_info": {
   "codemirror_mode": {
    "name": "ipython",
    "version": 3
   },
   "file_extension": ".py",
   "mimetype": "text/x-python",
   "name": "python",
   "nbconvert_exporter": "python",
   "pygments_lexer": "ipython3",
   "version": "3.8.8"
  }
 },
 "nbformat": 4,
 "nbformat_minor": 5
}
