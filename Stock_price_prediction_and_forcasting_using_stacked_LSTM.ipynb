{
 "cells": [
  {
   "cell_type": "markdown",
   "id": "ff41fc78",
   "metadata": {},
   "source": [
    "# Stock Market Prediction and Forecasting Using Stack LSTM"
   ]
  },
  {
   "cell_type": "code",
   "execution_count": 1,
   "id": "03c0f944",
   "metadata": {},
   "outputs": [],
   "source": [
    "import pandas_datareader as pdr"
   ]
  },
  {
   "cell_type": "code",
   "execution_count": 3,
   "id": "d97f890e",
   "metadata": {},
   "outputs": [
    {
     "name": "stderr",
     "output_type": "stream",
     "text": [
      "/opt/homebrew/Caskroom/miniforge/base/envs/tensorflow/lib/python3.9/site-packages/pandas_datareader/tiingo.py:234: FutureWarning: In a future version of pandas all arguments of concat except for the argument 'objs' will be keyword-only\n",
      "  return pd.concat(dfs, self._concat_axis)\n"
     ]
    }
   ],
   "source": [
    "key= 'b28a6541955993ea10a48c2c044fb1c3c1623166'\n",
    "df= pdr.get_data_tiingo('AAPL', api_key = key)"
   ]
  },
  {
   "cell_type": "code",
   "execution_count": 4,
   "id": "b09c0d0e",
   "metadata": {},
   "outputs": [],
   "source": [
    "df.to_csv('AAPL.csv')"
   ]
  },
  {
   "cell_type": "code",
   "execution_count": 5,
   "id": "69364a4d",
   "metadata": {},
   "outputs": [
    {
     "data": {
      "text/html": [
       "<div>\n",
       "<style scoped>\n",
       "    .dataframe tbody tr th:only-of-type {\n",
       "        vertical-align: middle;\n",
       "    }\n",
       "\n",
       "    .dataframe tbody tr th {\n",
       "        vertical-align: top;\n",
       "    }\n",
       "\n",
       "    .dataframe thead th {\n",
       "        text-align: right;\n",
       "    }\n",
       "</style>\n",
       "<table border=\"1\" class=\"dataframe\">\n",
       "  <thead>\n",
       "    <tr style=\"text-align: right;\">\n",
       "      <th></th>\n",
       "      <th></th>\n",
       "      <th>close</th>\n",
       "      <th>high</th>\n",
       "      <th>low</th>\n",
       "      <th>open</th>\n",
       "      <th>volume</th>\n",
       "      <th>adjClose</th>\n",
       "      <th>adjHigh</th>\n",
       "      <th>adjLow</th>\n",
       "      <th>adjOpen</th>\n",
       "      <th>adjVolume</th>\n",
       "      <th>divCash</th>\n",
       "      <th>splitFactor</th>\n",
       "    </tr>\n",
       "    <tr>\n",
       "      <th>symbol</th>\n",
       "      <th>date</th>\n",
       "      <th></th>\n",
       "      <th></th>\n",
       "      <th></th>\n",
       "      <th></th>\n",
       "      <th></th>\n",
       "      <th></th>\n",
       "      <th></th>\n",
       "      <th></th>\n",
       "      <th></th>\n",
       "      <th></th>\n",
       "      <th></th>\n",
       "      <th></th>\n",
       "    </tr>\n",
       "  </thead>\n",
       "  <tbody>\n",
       "    <tr>\n",
       "      <th rowspan=\"5\" valign=\"top\">AAPL</th>\n",
       "      <th>2017-07-17 00:00:00+00:00</th>\n",
       "      <td>149.56</td>\n",
       "      <td>150.90</td>\n",
       "      <td>148.57</td>\n",
       "      <td>148.82</td>\n",
       "      <td>23243713</td>\n",
       "      <td>35.389423</td>\n",
       "      <td>35.706498</td>\n",
       "      <td>35.155165</td>\n",
       "      <td>35.214321</td>\n",
       "      <td>92974852</td>\n",
       "      <td>0.0</td>\n",
       "      <td>1.0</td>\n",
       "    </tr>\n",
       "    <tr>\n",
       "      <th>2017-07-18 00:00:00+00:00</th>\n",
       "      <td>150.08</td>\n",
       "      <td>150.13</td>\n",
       "      <td>148.67</td>\n",
       "      <td>149.20</td>\n",
       "      <td>17713795</td>\n",
       "      <td>35.512467</td>\n",
       "      <td>35.524298</td>\n",
       "      <td>35.178828</td>\n",
       "      <td>35.304238</td>\n",
       "      <td>70855180</td>\n",
       "      <td>0.0</td>\n",
       "      <td>1.0</td>\n",
       "    </tr>\n",
       "    <tr>\n",
       "      <th>2017-07-19 00:00:00+00:00</th>\n",
       "      <td>151.02</td>\n",
       "      <td>151.42</td>\n",
       "      <td>149.95</td>\n",
       "      <td>150.48</td>\n",
       "      <td>20615419</td>\n",
       "      <td>35.734893</td>\n",
       "      <td>35.829543</td>\n",
       "      <td>35.481706</td>\n",
       "      <td>35.607116</td>\n",
       "      <td>82461676</td>\n",
       "      <td>0.0</td>\n",
       "      <td>1.0</td>\n",
       "    </tr>\n",
       "    <tr>\n",
       "      <th>2017-07-20 00:00:00+00:00</th>\n",
       "      <td>150.34</td>\n",
       "      <td>151.74</td>\n",
       "      <td>150.19</td>\n",
       "      <td>151.50</td>\n",
       "      <td>17053326</td>\n",
       "      <td>35.573989</td>\n",
       "      <td>35.905262</td>\n",
       "      <td>35.538496</td>\n",
       "      <td>35.848473</td>\n",
       "      <td>68213304</td>\n",
       "      <td>0.0</td>\n",
       "      <td>1.0</td>\n",
       "    </tr>\n",
       "    <tr>\n",
       "      <th>2017-07-21 00:00:00+00:00</th>\n",
       "      <td>150.27</td>\n",
       "      <td>150.44</td>\n",
       "      <td>148.88</td>\n",
       "      <td>149.99</td>\n",
       "      <td>24671002</td>\n",
       "      <td>35.557426</td>\n",
       "      <td>35.597652</td>\n",
       "      <td>35.228519</td>\n",
       "      <td>35.491171</td>\n",
       "      <td>98684008</td>\n",
       "      <td>0.0</td>\n",
       "      <td>1.0</td>\n",
       "    </tr>\n",
       "  </tbody>\n",
       "</table>\n",
       "</div>"
      ],
      "text/plain": [
       "                                   close    high     low    open    volume  \\\n",
       "symbol date                                                                  \n",
       "AAPL   2017-07-17 00:00:00+00:00  149.56  150.90  148.57  148.82  23243713   \n",
       "       2017-07-18 00:00:00+00:00  150.08  150.13  148.67  149.20  17713795   \n",
       "       2017-07-19 00:00:00+00:00  151.02  151.42  149.95  150.48  20615419   \n",
       "       2017-07-20 00:00:00+00:00  150.34  151.74  150.19  151.50  17053326   \n",
       "       2017-07-21 00:00:00+00:00  150.27  150.44  148.88  149.99  24671002   \n",
       "\n",
       "                                   adjClose    adjHigh     adjLow    adjOpen  \\\n",
       "symbol date                                                                    \n",
       "AAPL   2017-07-17 00:00:00+00:00  35.389423  35.706498  35.155165  35.214321   \n",
       "       2017-07-18 00:00:00+00:00  35.512467  35.524298  35.178828  35.304238   \n",
       "       2017-07-19 00:00:00+00:00  35.734893  35.829543  35.481706  35.607116   \n",
       "       2017-07-20 00:00:00+00:00  35.573989  35.905262  35.538496  35.848473   \n",
       "       2017-07-21 00:00:00+00:00  35.557426  35.597652  35.228519  35.491171   \n",
       "\n",
       "                                  adjVolume  divCash  splitFactor  \n",
       "symbol date                                                        \n",
       "AAPL   2017-07-17 00:00:00+00:00   92974852      0.0          1.0  \n",
       "       2017-07-18 00:00:00+00:00   70855180      0.0          1.0  \n",
       "       2017-07-19 00:00:00+00:00   82461676      0.0          1.0  \n",
       "       2017-07-20 00:00:00+00:00   68213304      0.0          1.0  \n",
       "       2017-07-21 00:00:00+00:00   98684008      0.0          1.0  "
      ]
     },
     "execution_count": 5,
     "metadata": {},
     "output_type": "execute_result"
    }
   ],
   "source": [
    "df.head()"
   ]
  },
  {
   "cell_type": "code",
   "execution_count": 6,
   "id": "2752b746",
   "metadata": {},
   "outputs": [],
   "source": [
    "df2 = df.reset_index()['close']"
   ]
  },
  {
   "cell_type": "code",
   "execution_count": 7,
   "id": "bb5c5fd5",
   "metadata": {},
   "outputs": [
    {
     "data": {
      "text/plain": [
       "(1258,)"
      ]
     },
     "execution_count": 7,
     "metadata": {},
     "output_type": "execute_result"
    }
   ],
   "source": [
    "df2.shape"
   ]
  },
  {
   "cell_type": "code",
   "execution_count": 8,
   "id": "907a6f46",
   "metadata": {},
   "outputs": [
    {
     "data": {
      "text/plain": [
       "0       149.56\n",
       "1       150.08\n",
       "2       151.02\n",
       "3       150.34\n",
       "4       150.27\n",
       "         ...  \n",
       "1253    147.04\n",
       "1254    144.87\n",
       "1255    145.86\n",
       "1256    145.49\n",
       "1257    148.47\n",
       "Name: close, Length: 1258, dtype: float64"
      ]
     },
     "execution_count": 8,
     "metadata": {},
     "output_type": "execute_result"
    }
   ],
   "source": [
    "df2"
   ]
  },
  {
   "cell_type": "markdown",
   "id": "888478cf",
   "metadata": {},
   "source": [
    "## Ploting the data"
   ]
  },
  {
   "cell_type": "code",
   "execution_count": 9,
   "id": "86e9566d",
   "metadata": {},
   "outputs": [
    {
     "data": {
      "text/plain": [
       "[<matplotlib.lines.Line2D at 0x12e9af910>]"
      ]
     },
     "execution_count": 9,
     "metadata": {},
     "output_type": "execute_result"
    },
    {
     "data": {
      "image/png": "[encoded data removed]",
      "text/plain": [
       "<Figure size 432x288 with 1 Axes>"
      ]
     },
     "metadata": {
      "needs_background": "light"
     },
     "output_type": "display_data"
    }
   ],
   "source": [
    "import matplotlib.pyplot as plt\n",
    "plt.plot(df2)"
   ]
  },
  {
   "cell_type": "markdown",
   "id": "b0488901",
   "metadata": {},
   "source": [
    "LSTM is sensitive to the scale of data so we apply MinMax scaler to transform the value b/w 0 to 1"
   ]
  },
  {
   "cell_type": "code",
   "execution_count": 10,
   "id": "dab3bf7c",
   "metadata": {},
   "outputs": [],
   "source": [
    "import numpy as np\n",
    "from sklearn.preprocessing import MinMaxScaler\n",
    "scaler = MinMaxScaler(feature_range=(0,1))\n",
    "df2 = scaler.fit_transform(np.array(df2).reshape(-1,1))"
   ]
  },
  {
   "cell_type": "code",
   "execution_count": 11,
   "id": "c289d576",
   "metadata": {},
   "outputs": [
    {
     "name": "stdout",
     "output_type": "stream",
     "text": [
      "[[0.10700063]\n",
      " [0.10830307]\n",
      " [0.11065748]\n",
      " ...\n",
      " [0.09773325]\n",
      " [0.09680651]\n",
      " [0.10427051]]\n"
     ]
    }
   ],
   "source": [
    "print(df2)"
   ]
  },
  {
   "cell_type": "markdown",
   "id": "4a29ce5b",
   "metadata": {},
   "source": [
    "In case of regression or classification problem, train and test split can be done with Cross Validation or Random Seed etc.\n",
    "But in case of time series data, we need to consider a concurrent set of data for training and testing. We use some timesteps for features (taken as independed values) to calculate next timestep value(depending of previous timesteps features ans we check). we have many such considutive set of data in multiple datastep sets."
   ]
  },
  {
   "cell_type": "code",
   "execution_count": 12,
   "id": "65c70b57",
   "metadata": {},
   "outputs": [],
   "source": [
    "training_size = int(len(df2)*0.65)\n",
    "test_size = len(df2)-training_size\n",
    "train_data, test_data = df2[0:training_size, :], df2[training_size: len(df2),:1]"
   ]
  },
  {
   "cell_type": "code",
   "execution_count": 13,
   "id": "b37a1c2b",
   "metadata": {},
   "outputs": [
    {
     "data": {
      "text/plain": [
       "(817, 441)"
      ]
     },
     "execution_count": 13,
     "metadata": {},
     "output_type": "execute_result"
    }
   ],
   "source": [
    "training_size, test_size"
   ]
  },
  {
   "cell_type": "code",
   "execution_count": 17,
   "id": "48875f84",
   "metadata": {},
   "outputs": [],
   "source": [
    "import numpy\n",
    "#convert an array of values into a dataset matrix\n",
    "def create_dataset(dataset, time_step=1):\n",
    "    dataX, dataY=[], []\n",
    "    for i in range(len(dataset)-time_step-1):\n",
    "        a = dataset[i:(i+time_step),0]\n",
    "        dataX.append(a)\n",
    "        dataY.append(dataset[i+time_step, 0])\n",
    "    return numpy.array(dataX), numpy.array(dataY)"
   ]
  },
  {
   "cell_type": "code",
   "execution_count": 18,
   "id": "57940b5a",
   "metadata": {},
   "outputs": [],
   "source": [
    "time_step = 100\n",
    "X_train, y_train = create_dataset(train_data, time_step)\n",
    "X_test, y_test = create_dataset(test_data, time_step)"
   ]
  },
  {
   "cell_type": "code",
   "execution_count": 20,
   "id": "d77ac88a",
   "metadata": {},
   "outputs": [
    {
     "name": "stdout",
     "output_type": "stream",
     "text": [
      "(716, 100) (716,)\n"
     ]
    }
   ],
   "source": [
    "print(X_train.shape, y_train.shape)"
   ]
  },
  {
   "cell_type": "code",
   "execution_count": 21,
   "id": "daa362fd",
   "metadata": {},
   "outputs": [
    {
     "name": "stdout",
     "output_type": "stream",
     "text": [
      "(340, 100) (340,)\n"
     ]
    }
   ],
   "source": [
    "print(X_test.shape, y_test.shape)"
   ]
  },
  {
   "cell_type": "code",
   "execution_count": 22,
   "id": "29649000",
   "metadata": {},
   "outputs": [],
   "source": [
    "#reshape input to be [samples, time steps, features] which is required for LSTM\n",
    "X_train = X_train.reshape(X_train.shape[0], X_train.shape[1], 1)\n",
    "X_test = X_test.reshape(X_test.shape[0], X_test.shape[1], 1)"
   ]
  },
  {
   "cell_type": "code",
   "execution_count": 23,
   "id": "3feeb7ab",
   "metadata": {},
   "outputs": [
    {
     "name": "stdout",
     "output_type": "stream",
     "text": [
      "Init Plugin\n",
      "Init Graph Optimizer\n",
      "Init Kernel\n"
     ]
    }
   ],
   "source": [
    "# create the stacked LSTM model\n",
    "from tensorflow.keras.models import Sequential\n",
    "from tensorflow.keras.layers import Dense\n",
    "from tensorflow.keras.layers import LSTM"
   ]
  },
  {
   "cell_type": "code",
   "execution_count": 24,
   "id": "5bd3f950",
   "metadata": {},
   "outputs": [
    {
     "name": "stdout",
     "output_type": "stream",
     "text": [
      "Metal device set to: Apple M1\n"
     ]
    },
    {
     "name": "stderr",
     "output_type": "stream",
     "text": [
      "2022-07-15 12:12:14.435730: I tensorflow/core/common_runtime/pluggable_device/pluggable_device_factory.cc:305] Could not identify NUMA node of platform GPU ID 0, defaulting to 0. Your kernel may not have been built with NUMA support.\n",
      "2022-07-15 12:12:14.436408: I tensorflow/core/common_runtime/pluggable_device/pluggable_device_factory.cc:271] Created TensorFlow device (/job:localhost/replica:0/task:0/device:GPU:0 with 0 MB memory) -> physical PluggableDevice (device: 0, name: METAL, pci bus id: <undefined>)\n"
     ]
    }
   ],
   "source": [
    "model = Sequential()\n",
    "model.add(LSTM(50, return_sequences= True, input_shape = (100,1)))\n",
    "model.add(LSTM(50, return_sequences = True))\n",
    "model.add(LSTM(50))\n",
    "model.add(Dense(1))\n",
    "model.compile(loss='mean_squared_error', optimizer = 'adam')\n"
   ]
  },
  {
   "cell_type": "code",
   "execution_count": 25,
   "id": "ed41d31e",
   "metadata": {},
   "outputs": [
    {
     "name": "stdout",
     "output_type": "stream",
     "text": [
      "Model: \"sequential\"\n",
      "_________________________________________________________________\n",
      "Layer (type)                 Output Shape              Param #   \n",
      "=================================================================\n",
      "lstm (LSTM)                  (None, 100, 50)           10400     \n",
      "_________________________________________________________________\n",
      "lstm_1 (LSTM)                (None, 100, 50)           20200     \n",
      "_________________________________________________________________\n",
      "lstm_2 (LSTM)                (None, 50)                20200     \n",
      "_________________________________________________________________\n",
      "dense (Dense)                (None, 1)                 51        \n",
      "=================================================================\n",
      "Total params: 50,851\n",
      "Trainable params: 50,851\n",
      "Non-trainable params: 0\n",
      "_________________________________________________________________\n"
     ]
    }
   ],
   "source": [
    "model.summary()"
   ]
  },
  {
   "cell_type": "code",
   "execution_count": 28,
   "id": "5e7e6dad",
   "metadata": {},
   "outputs": [
    {
     "name": "stderr",
     "output_type": "stream",
     "text": [
      "2022-07-15 14:31:40.236679: I tensorflow/compiler/mlir/mlir_graph_optimization_pass.cc:176] None of the MLIR Optimization Passes are enabled (registered 2)\n",
      "2022-07-15 14:31:40.242953: W tensorflow/core/platform/profile_utils/cpu_utils.cc:128] Failed to get CPU frequency: 0 Hz\n"
     ]
    },
    {
     "name": "stdout",
     "output_type": "stream",
     "text": [
      "Epoch 1/100\n"
     ]
    },
    {
     "name": "stderr",
     "output_type": "stream",
     "text": [
      "2022-07-15 14:31:41.994274: I tensorflow/core/grappler/optimizers/custom_graph_optimizer_registry.cc:112] Plugin optimizer for device_type GPU is enabled.\n",
      "2022-07-15 14:31:42.144961: I tensorflow/core/grappler/optimizers/custom_graph_optimizer_registry.cc:112] Plugin optimizer for device_type GPU is enabled.\n",
      "2022-07-15 14:31:42.867043: I tensorflow/core/grappler/optimizers/custom_graph_optimizer_registry.cc:112] Plugin optimizer for device_type GPU is enabled.\n",
      "2022-07-15 14:31:43.143679: I tensorflow/core/grappler/optimizers/custom_graph_optimizer_registry.cc:112] Plugin optimizer for device_type GPU is enabled.\n",
      "2022-07-15 14:31:43.947306: I tensorflow/core/grappler/optimizers/custom_graph_optimizer_registry.cc:112] Plugin optimizer for device_type GPU is enabled.\n",
      "2022-07-15 14:31:45.166344: I tensorflow/core/grappler/optimizers/custom_graph_optimizer_registry.cc:112] Plugin optimizer for device_type GPU is enabled.\n",
      "2022-07-15 14:31:45.600404: I tensorflow/core/grappler/optimizers/custom_graph_optimizer_registry.cc:112] Plugin optimizer for device_type GPU is enabled.\n"
     ]
    },
    {
     "name": "stdout",
     "output_type": "stream",
     "text": [
      "12/12 [==============================] - ETA: 0s - loss: 0.0463"
     ]
    },
    {
     "name": "stderr",
     "output_type": "stream",
     "text": [
      "2022-07-15 14:31:49.702744: I tensorflow/core/grappler/optimizers/custom_graph_optimizer_registry.cc:112] Plugin optimizer for device_type GPU is enabled.\n",
      "2022-07-15 14:31:49.747005: I tensorflow/core/grappler/optimizers/custom_graph_optimizer_registry.cc:112] Plugin optimizer for device_type GPU is enabled.\n",
      "2022-07-15 14:31:49.961278: I tensorflow/core/grappler/optimizers/custom_graph_optimizer_registry.cc:112] Plugin optimizer for device_type GPU is enabled.\n",
      "2022-07-15 14:31:50.178103: I tensorflow/core/grappler/optimizers/custom_graph_optimizer_registry.cc:112] Plugin optimizer for device_type GPU is enabled.\n"
     ]
    },
    {
     "name": "stdout",
     "output_type": "stream",
     "text": [
      "12/12 [==============================] - 11s 439ms/step - loss: 0.0463 - val_loss: 0.0061\n",
      "Epoch 2/100\n",
      "12/12 [==============================] - 1s 113ms/step - loss: 0.0160 - val_loss: 0.0099\n",
      "Epoch 3/100\n",
      "12/12 [==============================] - 1s 120ms/step - loss: 0.0138 - val_loss: 0.0019\n",
      "Epoch 4/100\n",
      "12/12 [==============================] - 1s 122ms/step - loss: 0.0100 - val_loss: 0.0034\n",
      "Epoch 5/100\n",
      "12/12 [==============================] - 1s 112ms/step - loss: 0.0096 - val_loss: 0.0011\n",
      "Epoch 6/100\n",
      "12/12 [==============================] - 1s 113ms/step - loss: 0.0092 - val_loss: 2.6202e-04\n",
      "Epoch 7/100\n",
      "12/12 [==============================] - 1s 112ms/step - loss: 0.0086 - val_loss: 2.6419e-04\n",
      "Epoch 8/100\n",
      "12/12 [==============================] - 1s 114ms/step - loss: 0.0085 - val_loss: 0.0014\n",
      "Epoch 9/100\n",
      "12/12 [==============================] - 1s 120ms/step - loss: 0.0072 - val_loss: 0.0022\n",
      "Epoch 10/100\n",
      "12/12 [==============================] - 2s 133ms/step - loss: 0.0067 - val_loss: 2.5389e-04\n",
      "Epoch 11/100\n",
      "12/12 [==============================] - 2s 137ms/step - loss: 0.0057 - val_loss: 4.8389e-04\n",
      "Epoch 12/100\n",
      "12/12 [==============================] - 1s 114ms/step - loss: 0.0055 - val_loss: 4.2100e-04\n",
      "Epoch 13/100\n",
      "12/12 [==============================] - 1s 113ms/step - loss: 0.0046 - val_loss: 4.7218e-04\n",
      "Epoch 14/100\n",
      "12/12 [==============================] - 1s 115ms/step - loss: 0.0043 - val_loss: 4.9387e-04\n",
      "Epoch 15/100\n",
      "12/12 [==============================] - 1s 114ms/step - loss: 0.0040 - val_loss: 4.9017e-04\n",
      "Epoch 16/100\n",
      "12/12 [==============================] - 1s 114ms/step - loss: 0.0035 - val_loss: 0.0012\n",
      "Epoch 17/100\n",
      "12/12 [==============================] - 1s 114ms/step - loss: 0.0033 - val_loss: 2.5446e-04\n",
      "Epoch 18/100\n",
      "12/12 [==============================] - 1s 112ms/step - loss: 0.0033 - val_loss: 2.6591e-04\n",
      "Epoch 19/100\n",
      "12/12 [==============================] - 1s 113ms/step - loss: 0.0030 - val_loss: 7.6553e-04\n",
      "Epoch 20/100\n",
      "12/12 [==============================] - 1s 114ms/step - loss: 0.0029 - val_loss: 3.1872e-04\n",
      "Epoch 21/100\n",
      "12/12 [==============================] - 1s 113ms/step - loss: 0.0024 - val_loss: 3.3123e-04\n",
      "Epoch 22/100\n",
      "12/12 [==============================] - 1s 116ms/step - loss: 0.0020 - val_loss: 1.9695e-04\n",
      "Epoch 23/100\n",
      "12/12 [==============================] - 1s 114ms/step - loss: 0.0172 - val_loss: 0.0014\n",
      "Epoch 24/100\n",
      "12/12 [==============================] - 1s 118ms/step - loss: 0.0133 - val_loss: 2.5655e-04\n",
      "Epoch 25/100\n",
      "12/12 [==============================] - 1s 115ms/step - loss: 0.0083 - val_loss: 4.5442e-04\n",
      "Epoch 26/100\n",
      "12/12 [==============================] - 1s 116ms/step - loss: 0.0071 - val_loss: 0.0015\n",
      "Epoch 27/100\n",
      "12/12 [==============================] - 1s 116ms/step - loss: 0.0053 - val_loss: 3.1187e-04\n",
      "Epoch 28/100\n",
      "12/12 [==============================] - 1s 115ms/step - loss: 0.0042 - val_loss: 3.7535e-04\n",
      "Epoch 29/100\n",
      "12/12 [==============================] - 1s 115ms/step - loss: 0.0045 - val_loss: 2.1096e-04\n",
      "Epoch 30/100\n",
      "12/12 [==============================] - 1s 114ms/step - loss: 0.0039 - val_loss: 4.6059e-04\n",
      "Epoch 31/100\n",
      "12/12 [==============================] - 1s 114ms/step - loss: 0.0074 - val_loss: 4.6048e-04\n",
      "Epoch 32/100\n",
      "12/12 [==============================] - 1s 118ms/step - loss: 0.0051 - val_loss: 3.6531e-04\n",
      "Epoch 33/100\n",
      "12/12 [==============================] - 1s 115ms/step - loss: 0.0041 - val_loss: 2.0935e-04\n",
      "Epoch 34/100\n",
      "12/12 [==============================] - 1s 116ms/step - loss: 0.0039 - val_loss: 2.0130e-04\n",
      "Epoch 35/100\n",
      "12/12 [==============================] - 1s 115ms/step - loss: 0.0027 - val_loss: 3.0371e-04\n",
      "Epoch 36/100\n",
      "12/12 [==============================] - 1s 119ms/step - loss: 0.0034 - val_loss: 2.1662e-04\n",
      "Epoch 37/100\n",
      "12/12 [==============================] - 1s 115ms/step - loss: 0.0027 - val_loss: 1.9695e-04\n",
      "Epoch 38/100\n",
      "12/12 [==============================] - 1s 115ms/step - loss: 0.0026 - val_loss: 2.7550e-04\n",
      "Epoch 39/100\n",
      "12/12 [==============================] - 1s 115ms/step - loss: 0.0025 - val_loss: 2.1800e-04\n",
      "Epoch 40/100\n",
      "12/12 [==============================] - 1s 116ms/step - loss: 0.0037 - val_loss: 2.1559e-04\n",
      "Epoch 41/100\n",
      "12/12 [==============================] - 1s 115ms/step - loss: 0.0037 - val_loss: 5.0868e-04\n",
      "Epoch 42/100\n",
      "12/12 [==============================] - 1s 115ms/step - loss: 0.0030 - val_loss: 3.2163e-04\n",
      "Epoch 43/100\n",
      "12/12 [==============================] - 1s 114ms/step - loss: 0.0036 - val_loss: 2.0924e-04\n",
      "Epoch 44/100\n",
      "12/12 [==============================] - 1s 115ms/step - loss: 0.0029 - val_loss: 2.2995e-04\n",
      "Epoch 45/100\n",
      "12/12 [==============================] - 1s 115ms/step - loss: 0.0027 - val_loss: 2.2529e-04\n",
      "Epoch 46/100\n",
      "12/12 [==============================] - 1s 116ms/step - loss: 0.0026 - val_loss: 1.9812e-04\n",
      "Epoch 47/100\n",
      "12/12 [==============================] - 1s 115ms/step - loss: 0.0027 - val_loss: 4.5726e-04\n",
      "Epoch 48/100\n",
      "12/12 [==============================] - 1s 114ms/step - loss: 0.0019 - val_loss: 1.7636e-04\n",
      "Epoch 49/100\n",
      "12/12 [==============================] - 1s 115ms/step - loss: 0.0020 - val_loss: 2.1626e-04\n",
      "Epoch 50/100\n",
      "12/12 [==============================] - 1s 114ms/step - loss: 0.0021 - val_loss: 5.5424e-04\n",
      "Epoch 51/100\n",
      "12/12 [==============================] - 1s 114ms/step - loss: 0.0018 - val_loss: 3.9218e-04\n",
      "Epoch 52/100\n",
      "12/12 [==============================] - 1s 115ms/step - loss: 0.0102 - val_loss: 6.7411e-04\n",
      "Epoch 53/100\n",
      "12/12 [==============================] - 1s 114ms/step - loss: 0.0067 - val_loss: 0.0010\n",
      "Epoch 54/100\n",
      "12/12 [==============================] - 1s 119ms/step - loss: 0.0053 - val_loss: 0.0014\n",
      "Epoch 55/100\n",
      "12/12 [==============================] - 1s 118ms/step - loss: 0.0046 - val_loss: 5.0679e-04\n",
      "Epoch 56/100\n",
      "12/12 [==============================] - 1s 118ms/step - loss: 0.0036 - val_loss: 4.7805e-04\n",
      "Epoch 57/100\n",
      "12/12 [==============================] - 1s 115ms/step - loss: 0.0031 - val_loss: 1.7839e-04\n",
      "Epoch 58/100\n",
      "12/12 [==============================] - 1s 114ms/step - loss: 0.0032 - val_loss: 1.8151e-04\n",
      "Epoch 59/100\n",
      "12/12 [==============================] - 1s 115ms/step - loss: 0.0028 - val_loss: 1.6623e-04\n",
      "Epoch 60/100\n",
      "12/12 [==============================] - 1s 114ms/step - loss: 0.0027 - val_loss: 1.8670e-04\n",
      "Epoch 61/100\n",
      "12/12 [==============================] - 1s 118ms/step - loss: 0.0022 - val_loss: 1.6321e-04\n",
      "Epoch 62/100\n",
      "12/12 [==============================] - 2s 132ms/step - loss: 0.0023 - val_loss: 1.6132e-04\n",
      "Epoch 63/100\n",
      "12/12 [==============================] - 1s 118ms/step - loss: 0.0043 - val_loss: 5.5213e-04\n",
      "Epoch 64/100\n",
      "12/12 [==============================] - 1s 116ms/step - loss: 0.0037 - val_loss: 2.4567e-04\n",
      "Epoch 65/100\n",
      "12/12 [==============================] - 1s 116ms/step - loss: 0.0032 - val_loss: 1.6538e-04\n",
      "Epoch 66/100\n",
      "12/12 [==============================] - 1s 118ms/step - loss: 0.0029 - val_loss: 1.6922e-04\n",
      "Epoch 67/100\n",
      "12/12 [==============================] - 1s 119ms/step - loss: 0.0033 - val_loss: 1.7361e-04\n",
      "Epoch 68/100\n",
      "12/12 [==============================] - 1s 117ms/step - loss: 0.0026 - val_loss: 1.8123e-04\n",
      "Epoch 69/100\n",
      "12/12 [==============================] - 1s 119ms/step - loss: 0.0025 - val_loss: 3.7308e-04\n",
      "Epoch 70/100\n",
      "12/12 [==============================] - 1s 122ms/step - loss: 0.0054 - val_loss: 0.0118\n",
      "Epoch 71/100\n",
      "12/12 [==============================] - 2s 128ms/step - loss: 0.0085 - val_loss: 0.0034\n",
      "Epoch 72/100\n",
      "12/12 [==============================] - 1s 120ms/step - loss: 0.0086 - val_loss: 4.0244e-04\n",
      "Epoch 73/100\n",
      "12/12 [==============================] - 1s 117ms/step - loss: 0.0051 - val_loss: 6.6700e-04\n",
      "Epoch 74/100\n",
      "12/12 [==============================] - 1s 116ms/step - loss: 0.0043 - val_loss: 2.4749e-04\n",
      "Epoch 75/100\n",
      "12/12 [==============================] - 1s 116ms/step - loss: 0.0033 - val_loss: 1.4680e-04\n",
      "Epoch 76/100\n",
      "12/12 [==============================] - 1s 117ms/step - loss: 0.0031 - val_loss: 2.0101e-04\n",
      "Epoch 77/100\n",
      "12/12 [==============================] - 1s 118ms/step - loss: 0.0026 - val_loss: 1.5417e-04\n",
      "Epoch 78/100\n",
      "12/12 [==============================] - 1s 117ms/step - loss: 0.0024 - val_loss: 2.6513e-04\n",
      "Epoch 79/100\n"
     ]
    },
    {
     "name": "stdout",
     "output_type": "stream",
     "text": [
      "12/12 [==============================] - 1s 116ms/step - loss: 0.0024 - val_loss: 1.6390e-04\n",
      "Epoch 80/100\n",
      "12/12 [==============================] - 1s 115ms/step - loss: 0.0023 - val_loss: 1.2890e-04\n",
      "Epoch 81/100\n",
      "12/12 [==============================] - 1s 117ms/step - loss: 0.0022 - val_loss: 2.2276e-04\n",
      "Epoch 82/100\n",
      "12/12 [==============================] - 1s 117ms/step - loss: 0.0022 - val_loss: 1.4396e-04\n",
      "Epoch 83/100\n",
      "12/12 [==============================] - 1s 117ms/step - loss: 0.0021 - val_loss: 1.8569e-04\n",
      "Epoch 84/100\n",
      "12/12 [==============================] - 1s 118ms/step - loss: 0.0020 - val_loss: 1.5703e-04\n",
      "Epoch 85/100\n",
      "12/12 [==============================] - 1s 122ms/step - loss: 0.0021 - val_loss: 1.4865e-04\n",
      "Epoch 86/100\n",
      "12/12 [==============================] - 1s 119ms/step - loss: 0.0019 - val_loss: 1.4769e-04\n",
      "Epoch 87/100\n",
      "12/12 [==============================] - 1s 118ms/step - loss: 0.0018 - val_loss: 1.4888e-04\n",
      "Epoch 88/100\n",
      "12/12 [==============================] - 1s 117ms/step - loss: 0.0020 - val_loss: 1.9148e-04\n",
      "Epoch 89/100\n",
      "12/12 [==============================] - 1s 117ms/step - loss: 0.0018 - val_loss: 3.0489e-04\n",
      "Epoch 90/100\n",
      "12/12 [==============================] - 1s 117ms/step - loss: 0.0017 - val_loss: 1.8158e-04\n",
      "Epoch 91/100\n",
      "12/12 [==============================] - 1s 119ms/step - loss: 0.0017 - val_loss: 1.5145e-04\n",
      "Epoch 92/100\n",
      "12/12 [==============================] - 1s 117ms/step - loss: 0.0016 - val_loss: 2.9964e-04\n",
      "Epoch 93/100\n",
      "12/12 [==============================] - 1s 118ms/step - loss: 0.0062 - val_loss: 2.3728e-04\n",
      "Epoch 94/100\n",
      "12/12 [==============================] - 1s 119ms/step - loss: 0.0037 - val_loss: 1.4361e-04\n",
      "Epoch 95/100\n",
      "12/12 [==============================] - 1s 119ms/step - loss: 0.0023 - val_loss: 2.0149e-04\n",
      "Epoch 96/100\n",
      "12/12 [==============================] - 1s 117ms/step - loss: 0.0020 - val_loss: 1.6429e-04\n",
      "Epoch 97/100\n",
      "12/12 [==============================] - 1s 118ms/step - loss: 0.0019 - val_loss: 2.1215e-04\n",
      "Epoch 98/100\n",
      "12/12 [==============================] - 1s 117ms/step - loss: 0.0018 - val_loss: 1.5322e-04\n",
      "Epoch 99/100\n",
      "12/12 [==============================] - 1s 117ms/step - loss: 0.0017 - val_loss: 5.2116e-04\n",
      "Epoch 100/100\n",
      "12/12 [==============================] - 1s 117ms/step - loss: 0.0016 - val_loss: 4.3794e-04\n"
     ]
    },
    {
     "data": {
      "text/plain": [
       "<tensorflow.python.keras.callbacks.History at 0x15dd7c310>"
      ]
     },
     "execution_count": 28,
     "metadata": {},
     "output_type": "execute_result"
    }
   ],
   "source": [
    "model.fit(X_train, y_train, validation_data= (X_test, y_test), epochs=100, batch_size=64, verbose=1)\n",
    "\n"
   ]
  },
  {
   "cell_type": "markdown",
   "id": "3a14c7f1",
   "metadata": {},
   "source": [
    "predictions"
   ]
  },
  {
   "cell_type": "code",
   "execution_count": 29,
   "id": "409e7f56",
   "metadata": {},
   "outputs": [
    {
     "name": "stderr",
     "output_type": "stream",
     "text": [
      "2022-07-15 14:35:18.538077: I tensorflow/core/grappler/optimizers/custom_graph_optimizer_registry.cc:112] Plugin optimizer for device_type GPU is enabled.\n",
      "2022-07-15 14:35:18.583318: I tensorflow/core/grappler/optimizers/custom_graph_optimizer_registry.cc:112] Plugin optimizer for device_type GPU is enabled.\n",
      "2022-07-15 14:35:18.835495: I tensorflow/core/grappler/optimizers/custom_graph_optimizer_registry.cc:112] Plugin optimizer for device_type GPU is enabled.\n",
      "2022-07-15 14:35:19.068248: I tensorflow/core/grappler/optimizers/custom_graph_optimizer_registry.cc:112] Plugin optimizer for device_type GPU is enabled.\n"
     ]
    }
   ],
   "source": [
    "train_prediction = model.predict(X_train)\n",
    "test_predict=model.predict(X_test)"
   ]
  },
  {
   "cell_type": "markdown",
   "id": "9152c343",
   "metadata": {},
   "source": [
    "transformback to original form"
   ]
  },
  {
   "cell_type": "code",
   "execution_count": 31,
   "id": "e671f778",
   "metadata": {},
   "outputs": [],
   "source": [
    "train_predict = scaler.inverse_transform(train_prediction)\n",
    "test_predict = scaler.inverse_transform(test_predict)"
   ]
  },
  {
   "cell_type": "markdown",
   "id": "c65da99b",
   "metadata": {},
   "source": [
    "metric calculations"
   ]
  },
  {
   "cell_type": "code",
   "execution_count": 33,
   "id": "65f173d8",
   "metadata": {},
   "outputs": [
    {
     "data": {
      "text/plain": [
       "234.18562421171083"
      ]
     },
     "execution_count": 33,
     "metadata": {},
     "output_type": "execute_result"
    }
   ],
   "source": [
    "import math\n",
    "from sklearn.metrics import mean_squared_error\n",
    "math.sqrt(mean_squared_error(y_train, train_predict))"
   ]
  },
  {
   "cell_type": "code",
   "execution_count": 34,
   "id": "b56980c5",
   "metadata": {},
   "outputs": [
    {
     "data": {
      "text/plain": [
       "156.27275098669125"
      ]
     },
     "execution_count": 34,
     "metadata": {},
     "output_type": "execute_result"
    }
   ],
   "source": [
    "math.sqrt(mean_squared_error(y_test, test_predict))"
   ]
  },
  {
   "cell_type": "markdown",
   "id": "a9c9ce86",
   "metadata": {},
   "source": [
    "Plotting"
   ]
  },
  {
   "cell_type": "code",
   "execution_count": 35,
   "id": "8580f3ce",
   "metadata": {},
   "outputs": [
    {
     "data": {
      "image/png": "[encoded data removed]",
      "text/plain": [
       "<Figure size 432x288 with 1 Axes>"
      ]
     },
     "metadata": {
      "needs_background": "light"
     },
     "output_type": "display_data"
    }
   ],
   "source": [
    "look_back=100\n",
    "trainPredictPlot = numpy.empty_like(df2)\n",
    "trainPredictPlot[:,:]=np.nan\n",
    "trainPredictPlot[look_back:len(train_predict)+look_back,:]=train_predict\n",
    "\n",
    "testPredictPlot=numpy.empty_like(df2)\n",
    "testPredictPlot[:,:]=numpy.nan\n",
    "testPredictPlot[len(train_predict)+(look_back*2)+1:len(df2)-1,:]=test_predict\n",
    "\n",
    "plt.plot(scaler.inverse_transform(df2))\n",
    "plt.plot(trainPredictPlot)\n",
    "plt.plot(testPredictPlot)\n",
    "plt.show()\n"
   ]
  },
  {
   "cell_type": "markdown",
   "id": "063ea9b3",
   "metadata": {},
   "source": [
    "## Now, Prediction of future 30 days"
   ]
  },
  {
   "cell_type": "code",
   "execution_count": 37,
   "id": "63b1a41f",
   "metadata": {},
   "outputs": [
    {
     "data": {
      "text/plain": [
       "441"
      ]
     },
     "execution_count": 37,
     "metadata": {},
     "output_type": "execute_result"
    }
   ],
   "source": [
    "len(test_data)"
   ]
  },
  {
   "cell_type": "markdown",
   "id": "b3f71ba0",
   "metadata": {},
   "source": [
    "for predicting a days data, I need previous 100 days data"
   ]
  },
  {
   "cell_type": "code",
   "execution_count": 38,
   "id": "1f02b07e",
   "metadata": {},
   "outputs": [
    {
     "data": {
      "text/plain": [
       "(1, 100)"
      ]
     },
     "execution_count": 38,
     "metadata": {},
     "output_type": "execute_result"
    }
   ],
   "source": [
    "x_input = test_data[341:].reshape(1,-1)\n",
    "x_input.shape"
   ]
  },
  {
   "cell_type": "code",
   "execution_count": 39,
   "id": "999362ac",
   "metadata": {},
   "outputs": [],
   "source": [
    "temp_input=list(x_input)\n",
    "temp_input=temp_input[0].tolist()"
   ]
  },
  {
   "cell_type": "code",
   "execution_count": 64,
   "id": "f27e89ce",
   "metadata": {},
   "outputs": [
    {
     "name": "stdout",
     "output_type": "stream",
     "text": [
      "0 day input [0.07701941 0.09084534 0.08395742 0.08435817 0.09252348 0.107201\n",
      " 0.10519724 0.10487163 0.11113338 0.096531   0.09843456 0.10487163\n",
      " 0.10299311 0.08966813 0.07586725 0.0627176  0.06492173 0.07160927\n",
      " 0.05815905 0.06191609 0.07271133 0.07140889 0.0787226  0.08721353\n",
      " 0.08721353 0.07664371 0.08112711 0.07484033 0.0803757  0.08696306\n",
      " 0.09036944 0.09896055 0.10068879 0.0952536  0.09773325 0.09680651\n",
      " 0.10427051 0.11689851 0.11924755 0.12250025 0.12630284 0.13032246\n",
      " 0.13433719 0.13822725 0.14193976 0.14545813 0.1487821  0.15191787\n",
      " 0.15487322 0.15765654 0.16027626 0.16274086 0.16505888 0.16723868\n",
      " 0.16928843 0.1712158  0.17302799 0.17473167 0.17633286 0.17783719\n",
      " 0.17924958 0.18057469 0.18181679 0.18297976 0.18406752 0.18508348\n",
      " 0.18603125 0.18691415 0.18773547 0.18849847 0.18920642 0.18986237\n",
      " 0.1904695  0.1910308  0.19154927 0.19202769 0.19246885 0.19287533\n",
      " 0.19324964 0.19359428 0.19391128 0.1942029  0.19447103 0.19471744\n",
      " 0.1949439  0.19515193 0.19534296 0.19551837 0.1956794  0.19582704\n",
      " 0.19596243 0.19608662 0.19620028 0.19630438 0.19639957 0.19648662\n",
      " 0.19656622 0.19663888 0.1967051  0.19676554]\n",
      "0 day output [[0.19682056]]\n",
      "1 day input [0.09084534 0.08395742 0.08435817 0.09252348 0.107201   0.10519724\n",
      " 0.10487163 0.11113338 0.096531   0.09843456 0.10487163 0.10299311\n",
      " 0.08966813 0.07586725 0.0627176  0.06492173 0.07160927 0.05815905\n",
      " 0.06191609 0.07271133 0.07140889 0.0787226  0.08721353 0.08721353\n",
      " 0.07664371 0.08112711 0.07484033 0.0803757  0.08696306 0.09036944\n",
      " 0.09896055 0.10068879 0.0952536  0.09773325 0.09680651 0.10427051\n",
      " 0.11689851 0.11924755 0.12250025 0.12630284 0.13032246 0.13433719\n",
      " 0.13822725 0.14193976 0.14545813 0.1487821  0.15191787 0.15487322\n",
      " 0.15765654 0.16027626 0.16274086 0.16505888 0.16723868 0.16928843\n",
      " 0.1712158  0.17302799 0.17473167 0.17633286 0.17783719 0.17924958\n",
      " 0.18057469 0.18181679 0.18297976 0.18406752 0.18508348 0.18603125\n",
      " 0.18691415 0.18773547 0.18849847 0.18920642 0.18986237 0.1904695\n",
      " 0.1910308  0.19154927 0.19202769 0.19246885 0.19287533 0.19324964\n",
      " 0.19359428 0.19391128 0.1942029  0.19447103 0.19471744 0.1949439\n",
      " 0.19515193 0.19534296 0.19551837 0.1956794  0.19582704 0.19596243\n",
      " 0.19608662 0.19620028 0.19630438 0.19639957 0.19648662 0.19656622\n",
      " 0.19663888 0.1967051  0.19676554 0.19682056]\n",
      "1 day output [[0.19687068]]\n",
      "2 day input [0.08395742 0.08435817 0.09252348 0.107201   0.10519724 0.10487163\n",
      " 0.11113338 0.096531   0.09843456 0.10487163 0.10299311 0.08966813\n",
      " 0.07586725 0.0627176  0.06492173 0.07160927 0.05815905 0.06191609\n",
      " 0.07271133 0.07140889 0.0787226  0.08721353 0.08721353 0.07664371\n",
      " 0.08112711 0.07484033 0.0803757  0.08696306 0.09036944 0.09896055\n",
      " 0.10068879 0.0952536  0.09773325 0.09680651 0.10427051 0.11689851\n",
      " 0.11924755 0.12250025 0.12630284 0.13032246 0.13433719 0.13822725\n",
      " 0.14193976 0.14545813 0.1487821  0.15191787 0.15487322 0.15765654\n",
      " 0.16027626 0.16274086 0.16505888 0.16723868 0.16928843 0.1712158\n",
      " 0.17302799 0.17473167 0.17633286 0.17783719 0.17924958 0.18057469\n",
      " 0.18181679 0.18297976 0.18406752 0.18508348 0.18603125 0.18691415\n",
      " 0.18773547 0.18849847 0.18920642 0.18986237 0.1904695  0.1910308\n",
      " 0.19154927 0.19202769 0.19246885 0.19287533 0.19324964 0.19359428\n",
      " 0.19391128 0.1942029  0.19447103 0.19471744 0.1949439  0.19515193\n",
      " 0.19534296 0.19551837 0.1956794  0.19582704 0.19596243 0.19608662\n",
      " 0.19620028 0.19630438 0.19639957 0.19648662 0.19656622 0.19663888\n",
      " 0.1967051  0.19676554 0.19682056 0.19687068]\n",
      "2 day output [[0.19691628]]\n",
      "3 day input [0.08435817 0.09252348 0.107201   0.10519724 0.10487163 0.11113338\n",
      " 0.096531   0.09843456 0.10487163 0.10299311 0.08966813 0.07586725\n",
      " 0.0627176  0.06492173 0.07160927 0.05815905 0.06191609 0.07271133\n",
      " 0.07140889 0.0787226  0.08721353 0.08721353 0.07664371 0.08112711\n",
      " 0.07484033 0.0803757  0.08696306 0.09036944 0.09896055 0.10068879\n",
      " 0.0952536  0.09773325 0.09680651 0.10427051 0.11689851 0.11924755\n",
      " 0.12250025 0.12630284 0.13032246 0.13433719 0.13822725 0.14193976\n",
      " 0.14545813 0.1487821  0.15191787 0.15487322 0.15765654 0.16027626\n",
      " 0.16274086 0.16505888 0.16723868 0.16928843 0.1712158  0.17302799\n",
      " 0.17473167 0.17633286 0.17783719 0.17924958 0.18057469 0.18181679\n",
      " 0.18297976 0.18406752 0.18508348 0.18603125 0.18691415 0.18773547\n",
      " 0.18849847 0.18920642 0.18986237 0.1904695  0.1910308  0.19154927\n",
      " 0.19202769 0.19246885 0.19287533 0.19324964 0.19359428 0.19391128\n",
      " 0.1942029  0.19447103 0.19471744 0.1949439  0.19515193 0.19534296\n",
      " 0.19551837 0.1956794  0.19582704 0.19596243 0.19608662 0.19620028\n",
      " 0.19630438 0.19639957 0.19648662 0.19656622 0.19663888 0.1967051\n",
      " 0.19676554 0.19682056 0.19687068 0.19691628]\n",
      "3 day output [[0.19695768]]\n",
      "4 day input [0.09252348 0.107201   0.10519724 0.10487163 0.11113338 0.096531\n",
      " 0.09843456 0.10487163 0.10299311 0.08966813 0.07586725 0.0627176\n",
      " 0.06492173 0.07160927 0.05815905 0.06191609 0.07271133 0.07140889\n",
      " 0.0787226  0.08721353 0.08721353 0.07664371 0.08112711 0.07484033\n",
      " 0.0803757  0.08696306 0.09036944 0.09896055 0.10068879 0.0952536\n",
      " 0.09773325 0.09680651 0.10427051 0.11689851 0.11924755 0.12250025\n",
      " 0.12630284 0.13032246 0.13433719 0.13822725 0.14193976 0.14545813\n",
      " 0.1487821  0.15191787 0.15487322 0.15765654 0.16027626 0.16274086\n",
      " 0.16505888 0.16723868 0.16928843 0.1712158  0.17302799 0.17473167\n",
      " 0.17633286 0.17783719 0.17924958 0.18057469 0.18181679 0.18297976\n",
      " 0.18406752 0.18508348 0.18603125 0.18691415 0.18773547 0.18849847\n",
      " 0.18920642 0.18986237 0.1904695  0.1910308  0.19154927 0.19202769\n",
      " 0.19246885 0.19287533 0.19324964 0.19359428 0.19391128 0.1942029\n",
      " 0.19447103 0.19471744 0.1949439  0.19515193 0.19534296 0.19551837\n",
      " 0.1956794  0.19582704 0.19596243 0.19608662 0.19620028 0.19630438\n",
      " 0.19639957 0.19648662 0.19656622 0.19663888 0.1967051  0.19676554\n",
      " 0.19682056 0.19687068 0.19691628 0.19695768]\n",
      "4 day output [[0.19699532]]\n",
      "5 day input [0.107201   0.10519724 0.10487163 0.11113338 0.096531   0.09843456\n",
      " 0.10487163 0.10299311 0.08966813 0.07586725 0.0627176  0.06492173\n",
      " 0.07160927 0.05815905 0.06191609 0.07271133 0.07140889 0.0787226\n",
      " 0.08721353 0.08721353 0.07664371 0.08112711 0.07484033 0.0803757\n",
      " 0.08696306 0.09036944 0.09896055 0.10068879 0.0952536  0.09773325\n",
      " 0.09680651 0.10427051 0.11689851 0.11924755 0.12250025 0.12630284\n",
      " 0.13032246 0.13433719 0.13822725 0.14193976 0.14545813 0.1487821\n",
      " 0.15191787 0.15487322 0.15765654 0.16027626 0.16274086 0.16505888\n",
      " 0.16723868 0.16928843 0.1712158  0.17302799 0.17473167 0.17633286\n",
      " 0.17783719 0.17924958 0.18057469 0.18181679 0.18297976 0.18406752\n",
      " 0.18508348 0.18603125 0.18691415 0.18773547 0.18849847 0.18920642\n",
      " 0.18986237 0.1904695  0.1910308  0.19154927 0.19202769 0.19246885\n",
      " 0.19287533 0.19324964 0.19359428 0.19391128 0.1942029  0.19447103\n",
      " 0.19471744 0.1949439  0.19515193 0.19534296 0.19551837 0.1956794\n",
      " 0.19582704 0.19596243 0.19608662 0.19620028 0.19630438 0.19639957\n",
      " 0.19648662 0.19656622 0.19663888 0.1967051  0.19676554 0.19682056\n",
      " 0.19687068 0.19691628 0.19695768 0.19699532]\n",
      "5 day output [[0.19702947]]\n",
      "6 day input [0.10519724 0.10487163 0.11113338 0.096531   0.09843456 0.10487163\n",
      " 0.10299311 0.08966813 0.07586725 0.0627176  0.06492173 0.07160927\n",
      " 0.05815905 0.06191609 0.07271133 0.07140889 0.0787226  0.08721353\n",
      " 0.08721353 0.07664371 0.08112711 0.07484033 0.0803757  0.08696306\n",
      " 0.09036944 0.09896055 0.10068879 0.0952536  0.09773325 0.09680651\n",
      " 0.10427051 0.11689851 0.11924755 0.12250025 0.12630284 0.13032246\n",
      " 0.13433719 0.13822725 0.14193976 0.14545813 0.1487821  0.15191787\n",
      " 0.15487322 0.15765654 0.16027626 0.16274086 0.16505888 0.16723868\n",
      " 0.16928843 0.1712158  0.17302799 0.17473167 0.17633286 0.17783719\n",
      " 0.17924958 0.18057469 0.18181679 0.18297976 0.18406752 0.18508348\n",
      " 0.18603125 0.18691415 0.18773547 0.18849847 0.18920642 0.18986237\n",
      " 0.1904695  0.1910308  0.19154927 0.19202769 0.19246885 0.19287533\n",
      " 0.19324964 0.19359428 0.19391128 0.1942029  0.19447103 0.19471744\n",
      " 0.1949439  0.19515193 0.19534296 0.19551837 0.1956794  0.19582704\n",
      " 0.19596243 0.19608662 0.19620028 0.19630438 0.19639957 0.19648662\n",
      " 0.19656622 0.19663888 0.1967051  0.19676554 0.19682056 0.19687068\n",
      " 0.19691628 0.19695768 0.19699532 0.19702947]\n",
      "6 day output [[0.19706044]]\n",
      "7 day input [0.10487163 0.11113338 0.096531   0.09843456 0.10487163 0.10299311\n",
      " 0.08966813 0.07586725 0.0627176  0.06492173 0.07160927 0.05815905\n",
      " 0.06191609 0.07271133 0.07140889 0.0787226  0.08721353 0.08721353\n",
      " 0.07664371 0.08112711 0.07484033 0.0803757  0.08696306 0.09036944\n",
      " 0.09896055 0.10068879 0.0952536  0.09773325 0.09680651 0.10427051\n",
      " 0.11689851 0.11924755 0.12250025 0.12630284 0.13032246 0.13433719\n",
      " 0.13822725 0.14193976 0.14545813 0.1487821  0.15191787 0.15487322\n",
      " 0.15765654 0.16027626 0.16274086 0.16505888 0.16723868 0.16928843\n",
      " 0.1712158  0.17302799 0.17473167 0.17633286 0.17783719 0.17924958\n",
      " 0.18057469 0.18181679 0.18297976 0.18406752 0.18508348 0.18603125\n",
      " 0.18691415 0.18773547 0.18849847 0.18920642 0.18986237 0.1904695\n",
      " 0.1910308  0.19154927 0.19202769 0.19246885 0.19287533 0.19324964\n",
      " 0.19359428 0.19391128 0.1942029  0.19447103 0.19471744 0.1949439\n",
      " 0.19515193 0.19534296 0.19551837 0.1956794  0.19582704 0.19596243\n",
      " 0.19608662 0.19620028 0.19630438 0.19639957 0.19648662 0.19656622\n",
      " 0.19663888 0.1967051  0.19676554 0.19682056 0.19687068 0.19691628\n",
      " 0.19695768 0.19699532 0.19702947 0.19706044]\n"
     ]
    },
    {
     "name": "stdout",
     "output_type": "stream",
     "text": [
      "7 day output [[0.19708854]]\n",
      "8 day input [0.11113338 0.096531   0.09843456 0.10487163 0.10299311 0.08966813\n",
      " 0.07586725 0.0627176  0.06492173 0.07160927 0.05815905 0.06191609\n",
      " 0.07271133 0.07140889 0.0787226  0.08721353 0.08721353 0.07664371\n",
      " 0.08112711 0.07484033 0.0803757  0.08696306 0.09036944 0.09896055\n",
      " 0.10068879 0.0952536  0.09773325 0.09680651 0.10427051 0.11689851\n",
      " 0.11924755 0.12250025 0.12630284 0.13032246 0.13433719 0.13822725\n",
      " 0.14193976 0.14545813 0.1487821  0.15191787 0.15487322 0.15765654\n",
      " 0.16027626 0.16274086 0.16505888 0.16723868 0.16928843 0.1712158\n",
      " 0.17302799 0.17473167 0.17633286 0.17783719 0.17924958 0.18057469\n",
      " 0.18181679 0.18297976 0.18406752 0.18508348 0.18603125 0.18691415\n",
      " 0.18773547 0.18849847 0.18920642 0.18986237 0.1904695  0.1910308\n",
      " 0.19154927 0.19202769 0.19246885 0.19287533 0.19324964 0.19359428\n",
      " 0.19391128 0.1942029  0.19447103 0.19471744 0.1949439  0.19515193\n",
      " 0.19534296 0.19551837 0.1956794  0.19582704 0.19596243 0.19608662\n",
      " 0.19620028 0.19630438 0.19639957 0.19648662 0.19656622 0.19663888\n",
      " 0.1967051  0.19676554 0.19682056 0.19687068 0.19691628 0.19695768\n",
      " 0.19699532 0.19702947 0.19706044 0.19708854]\n",
      "8 day output [[0.19711399]]\n",
      "9 day input [0.096531   0.09843456 0.10487163 0.10299311 0.08966813 0.07586725\n",
      " 0.0627176  0.06492173 0.07160927 0.05815905 0.06191609 0.07271133\n",
      " 0.07140889 0.0787226  0.08721353 0.08721353 0.07664371 0.08112711\n",
      " 0.07484033 0.0803757  0.08696306 0.09036944 0.09896055 0.10068879\n",
      " 0.0952536  0.09773325 0.09680651 0.10427051 0.11689851 0.11924755\n",
      " 0.12250025 0.12630284 0.13032246 0.13433719 0.13822725 0.14193976\n",
      " 0.14545813 0.1487821  0.15191787 0.15487322 0.15765654 0.16027626\n",
      " 0.16274086 0.16505888 0.16723868 0.16928843 0.1712158  0.17302799\n",
      " 0.17473167 0.17633286 0.17783719 0.17924958 0.18057469 0.18181679\n",
      " 0.18297976 0.18406752 0.18508348 0.18603125 0.18691415 0.18773547\n",
      " 0.18849847 0.18920642 0.18986237 0.1904695  0.1910308  0.19154927\n",
      " 0.19202769 0.19246885 0.19287533 0.19324964 0.19359428 0.19391128\n",
      " 0.1942029  0.19447103 0.19471744 0.1949439  0.19515193 0.19534296\n",
      " 0.19551837 0.1956794  0.19582704 0.19596243 0.19608662 0.19620028\n",
      " 0.19630438 0.19639957 0.19648662 0.19656622 0.19663888 0.1967051\n",
      " 0.19676554 0.19682056 0.19687068 0.19691628 0.19695768 0.19699532\n",
      " 0.19702947 0.19706044 0.19708854 0.19711399]\n",
      "9 day output [[0.19713703]]\n",
      "10 day input [0.09843456 0.10487163 0.10299311 0.08966813 0.07586725 0.0627176\n",
      " 0.06492173 0.07160927 0.05815905 0.06191609 0.07271133 0.07140889\n",
      " 0.0787226  0.08721353 0.08721353 0.07664371 0.08112711 0.07484033\n",
      " 0.0803757  0.08696306 0.09036944 0.09896055 0.10068879 0.0952536\n",
      " 0.09773325 0.09680651 0.10427051 0.11689851 0.11924755 0.12250025\n",
      " 0.12630284 0.13032246 0.13433719 0.13822725 0.14193976 0.14545813\n",
      " 0.1487821  0.15191787 0.15487322 0.15765654 0.16027626 0.16274086\n",
      " 0.16505888 0.16723868 0.16928843 0.1712158  0.17302799 0.17473167\n",
      " 0.17633286 0.17783719 0.17924958 0.18057469 0.18181679 0.18297976\n",
      " 0.18406752 0.18508348 0.18603125 0.18691415 0.18773547 0.18849847\n",
      " 0.18920642 0.18986237 0.1904695  0.1910308  0.19154927 0.19202769\n",
      " 0.19246885 0.19287533 0.19324964 0.19359428 0.19391128 0.1942029\n",
      " 0.19447103 0.19471744 0.1949439  0.19515193 0.19534296 0.19551837\n",
      " 0.1956794  0.19582704 0.19596243 0.19608662 0.19620028 0.19630438\n",
      " 0.19639957 0.19648662 0.19656622 0.19663888 0.1967051  0.19676554\n",
      " 0.19682056 0.19687068 0.19691628 0.19695768 0.19699532 0.19702947\n",
      " 0.19706044 0.19708854 0.19711399 0.19713703]\n",
      "10 day output [[0.19715786]]\n",
      "11 day input [0.10487163 0.10299311 0.08966813 0.07586725 0.0627176  0.06492173\n",
      " 0.07160927 0.05815905 0.06191609 0.07271133 0.07140889 0.0787226\n",
      " 0.08721353 0.08721353 0.07664371 0.08112711 0.07484033 0.0803757\n",
      " 0.08696306 0.09036944 0.09896055 0.10068879 0.0952536  0.09773325\n",
      " 0.09680651 0.10427051 0.11689851 0.11924755 0.12250025 0.12630284\n",
      " 0.13032246 0.13433719 0.13822725 0.14193976 0.14545813 0.1487821\n",
      " 0.15191787 0.15487322 0.15765654 0.16027626 0.16274086 0.16505888\n",
      " 0.16723868 0.16928843 0.1712158  0.17302799 0.17473167 0.17633286\n",
      " 0.17783719 0.17924958 0.18057469 0.18181679 0.18297976 0.18406752\n",
      " 0.18508348 0.18603125 0.18691415 0.18773547 0.18849847 0.18920642\n",
      " 0.18986237 0.1904695  0.1910308  0.19154927 0.19202769 0.19246885\n",
      " 0.19287533 0.19324964 0.19359428 0.19391128 0.1942029  0.19447103\n",
      " 0.19471744 0.1949439  0.19515193 0.19534296 0.19551837 0.1956794\n",
      " 0.19582704 0.19596243 0.19608662 0.19620028 0.19630438 0.19639957\n",
      " 0.19648662 0.19656622 0.19663888 0.1967051  0.19676554 0.19682056\n",
      " 0.19687068 0.19691628 0.19695768 0.19699532 0.19702947 0.19706044\n",
      " 0.19708854 0.19711399 0.19713703 0.19715786]\n",
      "11 day output [[0.1971767]]\n",
      "12 day input [0.10299311 0.08966813 0.07586725 0.0627176  0.06492173 0.07160927\n",
      " 0.05815905 0.06191609 0.07271133 0.07140889 0.0787226  0.08721353\n",
      " 0.08721353 0.07664371 0.08112711 0.07484033 0.0803757  0.08696306\n",
      " 0.09036944 0.09896055 0.10068879 0.0952536  0.09773325 0.09680651\n",
      " 0.10427051 0.11689851 0.11924755 0.12250025 0.12630284 0.13032246\n",
      " 0.13433719 0.13822725 0.14193976 0.14545813 0.1487821  0.15191787\n",
      " 0.15487322 0.15765654 0.16027626 0.16274086 0.16505888 0.16723868\n",
      " 0.16928843 0.1712158  0.17302799 0.17473167 0.17633286 0.17783719\n",
      " 0.17924958 0.18057469 0.18181679 0.18297976 0.18406752 0.18508348\n",
      " 0.18603125 0.18691415 0.18773547 0.18849847 0.18920642 0.18986237\n",
      " 0.1904695  0.1910308  0.19154927 0.19202769 0.19246885 0.19287533\n",
      " 0.19324964 0.19359428 0.19391128 0.1942029  0.19447103 0.19471744\n",
      " 0.1949439  0.19515193 0.19534296 0.19551837 0.1956794  0.19582704\n",
      " 0.19596243 0.19608662 0.19620028 0.19630438 0.19639957 0.19648662\n",
      " 0.19656622 0.19663888 0.1967051  0.19676554 0.19682056 0.19687068\n",
      " 0.19691628 0.19695768 0.19699532 0.19702947 0.19706044 0.19708854\n",
      " 0.19711399 0.19713703 0.19715786 0.19717669]\n",
      "12 day output [[0.19719365]]\n",
      "13 day input [0.08966813 0.07586725 0.0627176  0.06492173 0.07160927 0.05815905\n",
      " 0.06191609 0.07271133 0.07140889 0.0787226  0.08721353 0.08721353\n",
      " 0.07664371 0.08112711 0.07484033 0.0803757  0.08696306 0.09036944\n",
      " 0.09896055 0.10068879 0.0952536  0.09773325 0.09680651 0.10427051\n",
      " 0.11689851 0.11924755 0.12250025 0.12630284 0.13032246 0.13433719\n",
      " 0.13822725 0.14193976 0.14545813 0.1487821  0.15191787 0.15487322\n",
      " 0.15765654 0.16027626 0.16274086 0.16505888 0.16723868 0.16928843\n",
      " 0.1712158  0.17302799 0.17473167 0.17633286 0.17783719 0.17924958\n",
      " 0.18057469 0.18181679 0.18297976 0.18406752 0.18508348 0.18603125\n",
      " 0.18691415 0.18773547 0.18849847 0.18920642 0.18986237 0.1904695\n",
      " 0.1910308  0.19154927 0.19202769 0.19246885 0.19287533 0.19324964\n",
      " 0.19359428 0.19391128 0.1942029  0.19447103 0.19471744 0.1949439\n",
      " 0.19515193 0.19534296 0.19551837 0.1956794  0.19582704 0.19596243\n",
      " 0.19608662 0.19620028 0.19630438 0.19639957 0.19648662 0.19656622\n",
      " 0.19663888 0.1967051  0.19676554 0.19682056 0.19687068 0.19691628\n",
      " 0.19695768 0.19699532 0.19702947 0.19706044 0.19708854 0.19711399\n",
      " 0.19713703 0.19715786 0.19717669 0.19719365]\n",
      "13 day output [[0.19720903]]\n",
      "14 day input [0.07586725 0.0627176  0.06492173 0.07160927 0.05815905 0.06191609\n",
      " 0.07271133 0.07140889 0.0787226  0.08721353 0.08721353 0.07664371\n",
      " 0.08112711 0.07484033 0.0803757  0.08696306 0.09036944 0.09896055\n",
      " 0.10068879 0.0952536  0.09773325 0.09680651 0.10427051 0.11689851\n",
      " 0.11924755 0.12250025 0.12630284 0.13032246 0.13433719 0.13822725\n",
      " 0.14193976 0.14545813 0.1487821  0.15191787 0.15487322 0.15765654\n",
      " 0.16027626 0.16274086 0.16505888 0.16723868 0.16928843 0.1712158\n",
      " 0.17302799 0.17473167 0.17633286 0.17783719 0.17924958 0.18057469\n",
      " 0.18181679 0.18297976 0.18406752 0.18508348 0.18603125 0.18691415\n",
      " 0.18773547 0.18849847 0.18920642 0.18986237 0.1904695  0.1910308\n",
      " 0.19154927 0.19202769 0.19246885 0.19287533 0.19324964 0.19359428\n",
      " 0.19391128 0.1942029  0.19447103 0.19471744 0.1949439  0.19515193\n",
      " 0.19534296 0.19551837 0.1956794  0.19582704 0.19596243 0.19608662\n",
      " 0.19620028 0.19630438 0.19639957 0.19648662 0.19656622 0.19663888\n",
      " 0.1967051  0.19676554 0.19682056 0.19687068 0.19691628 0.19695768\n",
      " 0.19699532 0.19702947 0.19706044 0.19708854 0.19711399 0.19713703\n",
      " 0.19715786 0.19717669 0.19719365 0.19720903]\n",
      "14 day output [[0.19722289]]\n",
      "15 day input [0.0627176  0.06492173 0.07160927 0.05815905 0.06191609 0.07271133\n",
      " 0.07140889 0.0787226  0.08721353 0.08721353 0.07664371 0.08112711\n",
      " 0.07484033 0.0803757  0.08696306 0.09036944 0.09896055 0.10068879\n",
      " 0.0952536  0.09773325 0.09680651 0.10427051 0.11689851 0.11924755\n",
      " 0.12250025 0.12630284 0.13032246 0.13433719 0.13822725 0.14193976\n",
      " 0.14545813 0.1487821  0.15191787 0.15487322 0.15765654 0.16027626\n",
      " 0.16274086 0.16505888 0.16723868 0.16928843 0.1712158  0.17302799\n",
      " 0.17473167 0.17633286 0.17783719 0.17924958 0.18057469 0.18181679\n",
      " 0.18297976 0.18406752 0.18508348 0.18603125 0.18691415 0.18773547\n",
      " 0.18849847 0.18920642 0.18986237 0.1904695  0.1910308  0.19154927\n",
      " 0.19202769 0.19246885 0.19287533 0.19324964 0.19359428 0.19391128\n",
      " 0.1942029  0.19447103 0.19471744 0.1949439  0.19515193 0.19534296\n",
      " 0.19551837 0.1956794  0.19582704 0.19596243 0.19608662 0.19620028\n",
      " 0.19630438 0.19639957 0.19648662 0.19656622 0.19663888 0.1967051\n",
      " 0.19676554 0.19682056 0.19687068 0.19691628 0.19695768 0.19699532\n",
      " 0.19702947 0.19706044 0.19708854 0.19711399 0.19713703 0.19715786\n",
      " 0.19717669 0.19719365 0.19720903 0.19722289]\n",
      "15 day output [[0.19723532]]\n",
      "16 day input [0.06492173 0.07160927 0.05815905 0.06191609 0.07271133 0.07140889\n",
      " 0.0787226  0.08721353 0.08721353 0.07664371 0.08112711 0.07484033\n",
      " 0.0803757  0.08696306 0.09036944 0.09896055 0.10068879 0.0952536\n",
      " 0.09773325 0.09680651 0.10427051 0.11689851 0.11924755 0.12250025\n",
      " 0.12630284 0.13032246 0.13433719 0.13822725 0.14193976 0.14545813\n",
      " 0.1487821  0.15191787 0.15487322 0.15765654 0.16027626 0.16274086\n",
      " 0.16505888 0.16723868 0.16928843 0.1712158  0.17302799 0.17473167\n",
      " 0.17633286 0.17783719 0.17924958 0.18057469 0.18181679 0.18297976\n",
      " 0.18406752 0.18508348 0.18603125 0.18691415 0.18773547 0.18849847\n",
      " 0.18920642 0.18986237 0.1904695  0.1910308  0.19154927 0.19202769\n",
      " 0.19246885 0.19287533 0.19324964 0.19359428 0.19391128 0.1942029\n",
      " 0.19447103 0.19471744 0.1949439  0.19515193 0.19534296 0.19551837\n",
      " 0.1956794  0.19582704 0.19596243 0.19608662 0.19620028 0.19630438\n",
      " 0.19639957 0.19648662 0.19656622 0.19663888 0.1967051  0.19676554\n",
      " 0.19682056 0.19687068 0.19691628 0.19695768 0.19699532 0.19702947\n",
      " 0.19706044 0.19708854 0.19711399 0.19713703 0.19715786 0.19717669\n",
      " 0.19719365 0.19720903 0.19722289 0.19723532]\n",
      "16 day output [[0.19724655]]\n",
      "17 day input [0.07160927 0.05815905 0.06191609 0.07271133 0.07140889 0.0787226\n",
      " 0.08721353 0.08721353 0.07664371 0.08112711 0.07484033 0.0803757\n",
      " 0.08696306 0.09036944 0.09896055 0.10068879 0.0952536  0.09773325\n",
      " 0.09680651 0.10427051 0.11689851 0.11924755 0.12250025 0.12630284\n",
      " 0.13032246 0.13433719 0.13822725 0.14193976 0.14545813 0.1487821\n",
      " 0.15191787 0.15487322 0.15765654 0.16027626 0.16274086 0.16505888\n",
      " 0.16723868 0.16928843 0.1712158  0.17302799 0.17473167 0.17633286\n",
      " 0.17783719 0.17924958 0.18057469 0.18181679 0.18297976 0.18406752\n",
      " 0.18508348 0.18603125 0.18691415 0.18773547 0.18849847 0.18920642\n",
      " 0.18986237 0.1904695  0.1910308  0.19154927 0.19202769 0.19246885\n",
      " 0.19287533 0.19324964 0.19359428 0.19391128 0.1942029  0.19447103\n",
      " 0.19471744 0.1949439  0.19515193 0.19534296 0.19551837 0.1956794\n",
      " 0.19582704 0.19596243 0.19608662 0.19620028 0.19630438 0.19639957\n",
      " 0.19648662 0.19656622 0.19663888 0.1967051  0.19676554 0.19682056\n",
      " 0.19687068 0.19691628 0.19695768 0.19699532 0.19702947 0.19706044\n",
      " 0.19708854 0.19711399 0.19713703 0.19715786 0.19717669 0.19719365\n",
      " 0.19720903 0.19722289 0.19723532 0.19724655]\n"
     ]
    },
    {
     "name": "stdout",
     "output_type": "stream",
     "text": [
      "17 day output [[0.19725662]]\n",
      "18 day input [0.05815905 0.06191609 0.07271133 0.07140889 0.0787226  0.08721353\n",
      " 0.08721353 0.07664371 0.08112711 0.07484033 0.0803757  0.08696306\n",
      " 0.09036944 0.09896055 0.10068879 0.0952536  0.09773325 0.09680651\n",
      " 0.10427051 0.11689851 0.11924755 0.12250025 0.12630284 0.13032246\n",
      " 0.13433719 0.13822725 0.14193976 0.14545813 0.1487821  0.15191787\n",
      " 0.15487322 0.15765654 0.16027626 0.16274086 0.16505888 0.16723868\n",
      " 0.16928843 0.1712158  0.17302799 0.17473167 0.17633286 0.17783719\n",
      " 0.17924958 0.18057469 0.18181679 0.18297976 0.18406752 0.18508348\n",
      " 0.18603125 0.18691415 0.18773547 0.18849847 0.18920642 0.18986237\n",
      " 0.1904695  0.1910308  0.19154927 0.19202769 0.19246885 0.19287533\n",
      " 0.19324964 0.19359428 0.19391128 0.1942029  0.19447103 0.19471744\n",
      " 0.1949439  0.19515193 0.19534296 0.19551837 0.1956794  0.19582704\n",
      " 0.19596243 0.19608662 0.19620028 0.19630438 0.19639957 0.19648662\n",
      " 0.19656622 0.19663888 0.1967051  0.19676554 0.19682056 0.19687068\n",
      " 0.19691628 0.19695768 0.19699532 0.19702947 0.19706044 0.19708854\n",
      " 0.19711399 0.19713703 0.19715786 0.19717669 0.19719365 0.19720903\n",
      " 0.19722289 0.19723532 0.19724655 0.19725662]\n",
      "18 day output [[0.19726568]]\n",
      "19 day input [0.06191609 0.07271133 0.07140889 0.0787226  0.08721353 0.08721353\n",
      " 0.07664371 0.08112711 0.07484033 0.0803757  0.08696306 0.09036944\n",
      " 0.09896055 0.10068879 0.0952536  0.09773325 0.09680651 0.10427051\n",
      " 0.11689851 0.11924755 0.12250025 0.12630284 0.13032246 0.13433719\n",
      " 0.13822725 0.14193976 0.14545813 0.1487821  0.15191787 0.15487322\n",
      " 0.15765654 0.16027626 0.16274086 0.16505888 0.16723868 0.16928843\n",
      " 0.1712158  0.17302799 0.17473167 0.17633286 0.17783719 0.17924958\n",
      " 0.18057469 0.18181679 0.18297976 0.18406752 0.18508348 0.18603125\n",
      " 0.18691415 0.18773547 0.18849847 0.18920642 0.18986237 0.1904695\n",
      " 0.1910308  0.19154927 0.19202769 0.19246885 0.19287533 0.19324964\n",
      " 0.19359428 0.19391128 0.1942029  0.19447103 0.19471744 0.1949439\n",
      " 0.19515193 0.19534296 0.19551837 0.1956794  0.19582704 0.19596243\n",
      " 0.19608662 0.19620028 0.19630438 0.19639957 0.19648662 0.19656622\n",
      " 0.19663888 0.1967051  0.19676554 0.19682056 0.19687068 0.19691628\n",
      " 0.19695768 0.19699532 0.19702947 0.19706044 0.19708854 0.19711399\n",
      " 0.19713703 0.19715786 0.19717669 0.19719365 0.19720903 0.19722289\n",
      " 0.19723532 0.19724655 0.19725662 0.19726568]\n",
      "19 day output [[0.19727382]]\n",
      "20 day input [0.07271133 0.07140889 0.0787226  0.08721353 0.08721353 0.07664371\n",
      " 0.08112711 0.07484033 0.0803757  0.08696306 0.09036944 0.09896055\n",
      " 0.10068879 0.0952536  0.09773325 0.09680651 0.10427051 0.11689851\n",
      " 0.11924755 0.12250025 0.12630284 0.13032246 0.13433719 0.13822725\n",
      " 0.14193976 0.14545813 0.1487821  0.15191787 0.15487322 0.15765654\n",
      " 0.16027626 0.16274086 0.16505888 0.16723868 0.16928843 0.1712158\n",
      " 0.17302799 0.17473167 0.17633286 0.17783719 0.17924958 0.18057469\n",
      " 0.18181679 0.18297976 0.18406752 0.18508348 0.18603125 0.18691415\n",
      " 0.18773547 0.18849847 0.18920642 0.18986237 0.1904695  0.1910308\n",
      " 0.19154927 0.19202769 0.19246885 0.19287533 0.19324964 0.19359428\n",
      " 0.19391128 0.1942029  0.19447103 0.19471744 0.1949439  0.19515193\n",
      " 0.19534296 0.19551837 0.1956794  0.19582704 0.19596243 0.19608662\n",
      " 0.19620028 0.19630438 0.19639957 0.19648662 0.19656622 0.19663888\n",
      " 0.1967051  0.19676554 0.19682056 0.19687068 0.19691628 0.19695768\n",
      " 0.19699532 0.19702947 0.19706044 0.19708854 0.19711399 0.19713703\n",
      " 0.19715786 0.19717669 0.19719365 0.19720903 0.19722289 0.19723532\n",
      " 0.19724655 0.19725662 0.19726568 0.19727382]\n",
      "20 day output [[0.19728112]]\n",
      "21 day input [0.07140889 0.0787226  0.08721353 0.08721353 0.07664371 0.08112711\n",
      " 0.07484033 0.0803757  0.08696306 0.09036944 0.09896055 0.10068879\n",
      " 0.0952536  0.09773325 0.09680651 0.10427051 0.11689851 0.11924755\n",
      " 0.12250025 0.12630284 0.13032246 0.13433719 0.13822725 0.14193976\n",
      " 0.14545813 0.1487821  0.15191787 0.15487322 0.15765654 0.16027626\n",
      " 0.16274086 0.16505888 0.16723868 0.16928843 0.1712158  0.17302799\n",
      " 0.17473167 0.17633286 0.17783719 0.17924958 0.18057469 0.18181679\n",
      " 0.18297976 0.18406752 0.18508348 0.18603125 0.18691415 0.18773547\n",
      " 0.18849847 0.18920642 0.18986237 0.1904695  0.1910308  0.19154927\n",
      " 0.19202769 0.19246885 0.19287533 0.19324964 0.19359428 0.19391128\n",
      " 0.1942029  0.19447103 0.19471744 0.1949439  0.19515193 0.19534296\n",
      " 0.19551837 0.1956794  0.19582704 0.19596243 0.19608662 0.19620028\n",
      " 0.19630438 0.19639957 0.19648662 0.19656622 0.19663888 0.1967051\n",
      " 0.19676554 0.19682056 0.19687068 0.19691628 0.19695768 0.19699532\n",
      " 0.19702947 0.19706044 0.19708854 0.19711399 0.19713703 0.19715786\n",
      " 0.19717669 0.19719365 0.19720903 0.19722289 0.19723532 0.19724655\n",
      " 0.19725662 0.19726568 0.19727382 0.19728112]\n",
      "21 day output [[0.19728759]]\n",
      "22 day input [0.0787226  0.08721353 0.08721353 0.07664371 0.08112711 0.07484033\n",
      " 0.0803757  0.08696306 0.09036944 0.09896055 0.10068879 0.0952536\n",
      " 0.09773325 0.09680651 0.10427051 0.11689851 0.11924755 0.12250025\n",
      " 0.12630284 0.13032246 0.13433719 0.13822725 0.14193976 0.14545813\n",
      " 0.1487821  0.15191787 0.15487322 0.15765654 0.16027626 0.16274086\n",
      " 0.16505888 0.16723868 0.16928843 0.1712158  0.17302799 0.17473167\n",
      " 0.17633286 0.17783719 0.17924958 0.18057469 0.18181679 0.18297976\n",
      " 0.18406752 0.18508348 0.18603125 0.18691415 0.18773547 0.18849847\n",
      " 0.18920642 0.18986237 0.1904695  0.1910308  0.19154927 0.19202769\n",
      " 0.19246885 0.19287533 0.19324964 0.19359428 0.19391128 0.1942029\n",
      " 0.19447103 0.19471744 0.1949439  0.19515193 0.19534296 0.19551837\n",
      " 0.1956794  0.19582704 0.19596243 0.19608662 0.19620028 0.19630438\n",
      " 0.19639957 0.19648662 0.19656622 0.19663888 0.1967051  0.19676554\n",
      " 0.19682056 0.19687068 0.19691628 0.19695768 0.19699532 0.19702947\n",
      " 0.19706044 0.19708854 0.19711399 0.19713703 0.19715786 0.19717669\n",
      " 0.19719365 0.19720903 0.19722289 0.19723532 0.19724655 0.19725662\n",
      " 0.19726568 0.19727382 0.19728112 0.19728759]\n",
      "22 day output [[0.19729343]]\n",
      "23 day input [0.08721353 0.08721353 0.07664371 0.08112711 0.07484033 0.0803757\n",
      " 0.08696306 0.09036944 0.09896055 0.10068879 0.0952536  0.09773325\n",
      " 0.09680651 0.10427051 0.11689851 0.11924755 0.12250025 0.12630284\n",
      " 0.13032246 0.13433719 0.13822725 0.14193976 0.14545813 0.1487821\n",
      " 0.15191787 0.15487322 0.15765654 0.16027626 0.16274086 0.16505888\n",
      " 0.16723868 0.16928843 0.1712158  0.17302799 0.17473167 0.17633286\n",
      " 0.17783719 0.17924958 0.18057469 0.18181679 0.18297976 0.18406752\n",
      " 0.18508348 0.18603125 0.18691415 0.18773547 0.18849847 0.18920642\n",
      " 0.18986237 0.1904695  0.1910308  0.19154927 0.19202769 0.19246885\n",
      " 0.19287533 0.19324964 0.19359428 0.19391128 0.1942029  0.19447103\n",
      " 0.19471744 0.1949439  0.19515193 0.19534296 0.19551837 0.1956794\n",
      " 0.19582704 0.19596243 0.19608662 0.19620028 0.19630438 0.19639957\n",
      " 0.19648662 0.19656622 0.19663888 0.1967051  0.19676554 0.19682056\n",
      " 0.19687068 0.19691628 0.19695768 0.19699532 0.19702947 0.19706044\n",
      " 0.19708854 0.19711399 0.19713703 0.19715786 0.19717669 0.19719365\n",
      " 0.19720903 0.19722289 0.19723532 0.19724655 0.19725662 0.19726568\n",
      " 0.19727382 0.19728112 0.19728759 0.19729343]\n",
      "23 day output [[0.19729865]]\n",
      "24 day input [0.08721353 0.07664371 0.08112711 0.07484033 0.0803757  0.08696306\n",
      " 0.09036944 0.09896055 0.10068879 0.0952536  0.09773325 0.09680651\n",
      " 0.10427051 0.11689851 0.11924755 0.12250025 0.12630284 0.13032246\n",
      " 0.13433719 0.13822725 0.14193976 0.14545813 0.1487821  0.15191787\n",
      " 0.15487322 0.15765654 0.16027626 0.16274086 0.16505888 0.16723868\n",
      " 0.16928843 0.1712158  0.17302799 0.17473167 0.17633286 0.17783719\n",
      " 0.17924958 0.18057469 0.18181679 0.18297976 0.18406752 0.18508348\n",
      " 0.18603125 0.18691415 0.18773547 0.18849847 0.18920642 0.18986237\n",
      " 0.1904695  0.1910308  0.19154927 0.19202769 0.19246885 0.19287533\n",
      " 0.19324964 0.19359428 0.19391128 0.1942029  0.19447103 0.19471744\n",
      " 0.1949439  0.19515193 0.19534296 0.19551837 0.1956794  0.19582704\n",
      " 0.19596243 0.19608662 0.19620028 0.19630438 0.19639957 0.19648662\n",
      " 0.19656622 0.19663888 0.1967051  0.19676554 0.19682056 0.19687068\n",
      " 0.19691628 0.19695768 0.19699532 0.19702947 0.19706044 0.19708854\n",
      " 0.19711399 0.19713703 0.19715786 0.19717669 0.19719365 0.19720903\n",
      " 0.19722289 0.19723532 0.19724655 0.19725662 0.19726568 0.19727382\n",
      " 0.19728112 0.19728759 0.19729343 0.19729865]\n",
      "24 day output [[0.19730324]]\n",
      "25 day input [0.07664371 0.08112711 0.07484033 0.0803757  0.08696306 0.09036944\n",
      " 0.09896055 0.10068879 0.0952536  0.09773325 0.09680651 0.10427051\n",
      " 0.11689851 0.11924755 0.12250025 0.12630284 0.13032246 0.13433719\n",
      " 0.13822725 0.14193976 0.14545813 0.1487821  0.15191787 0.15487322\n",
      " 0.15765654 0.16027626 0.16274086 0.16505888 0.16723868 0.16928843\n",
      " 0.1712158  0.17302799 0.17473167 0.17633286 0.17783719 0.17924958\n",
      " 0.18057469 0.18181679 0.18297976 0.18406752 0.18508348 0.18603125\n",
      " 0.18691415 0.18773547 0.18849847 0.18920642 0.18986237 0.1904695\n",
      " 0.1910308  0.19154927 0.19202769 0.19246885 0.19287533 0.19324964\n",
      " 0.19359428 0.19391128 0.1942029  0.19447103 0.19471744 0.1949439\n",
      " 0.19515193 0.19534296 0.19551837 0.1956794  0.19582704 0.19596243\n",
      " 0.19608662 0.19620028 0.19630438 0.19639957 0.19648662 0.19656622\n",
      " 0.19663888 0.1967051  0.19676554 0.19682056 0.19687068 0.19691628\n",
      " 0.19695768 0.19699532 0.19702947 0.19706044 0.19708854 0.19711399\n",
      " 0.19713703 0.19715786 0.19717669 0.19719365 0.19720903 0.19722289\n",
      " 0.19723532 0.19724655 0.19725662 0.19726568 0.19727382 0.19728112\n",
      " 0.19728759 0.19729343 0.19729865 0.19730324]\n"
     ]
    },
    {
     "name": "stdout",
     "output_type": "stream",
     "text": [
      "25 day output [[0.19730732]]\n",
      "26 day input [0.08112711 0.07484033 0.0803757  0.08696306 0.09036944 0.09896055\n",
      " 0.10068879 0.0952536  0.09773325 0.09680651 0.10427051 0.11689851\n",
      " 0.11924755 0.12250025 0.12630284 0.13032246 0.13433719 0.13822725\n",
      " 0.14193976 0.14545813 0.1487821  0.15191787 0.15487322 0.15765654\n",
      " 0.16027626 0.16274086 0.16505888 0.16723868 0.16928843 0.1712158\n",
      " 0.17302799 0.17473167 0.17633286 0.17783719 0.17924958 0.18057469\n",
      " 0.18181679 0.18297976 0.18406752 0.18508348 0.18603125 0.18691415\n",
      " 0.18773547 0.18849847 0.18920642 0.18986237 0.1904695  0.1910308\n",
      " 0.19154927 0.19202769 0.19246885 0.19287533 0.19324964 0.19359428\n",
      " 0.19391128 0.1942029  0.19447103 0.19471744 0.1949439  0.19515193\n",
      " 0.19534296 0.19551837 0.1956794  0.19582704 0.19596243 0.19608662\n",
      " 0.19620028 0.19630438 0.19639957 0.19648662 0.19656622 0.19663888\n",
      " 0.1967051  0.19676554 0.19682056 0.19687068 0.19691628 0.19695768\n",
      " 0.19699532 0.19702947 0.19706044 0.19708854 0.19711399 0.19713703\n",
      " 0.19715786 0.19717669 0.19719365 0.19720903 0.19722289 0.19723532\n",
      " 0.19724655 0.19725662 0.19726568 0.19727382 0.19728112 0.19728759\n",
      " 0.19729343 0.19729865 0.19730324 0.19730732]\n",
      "26 day output [[0.19731104]]\n",
      "27 day input [0.07484033 0.0803757  0.08696306 0.09036944 0.09896055 0.10068879\n",
      " 0.0952536  0.09773325 0.09680651 0.10427051 0.11689851 0.11924755\n",
      " 0.12250025 0.12630284 0.13032246 0.13433719 0.13822725 0.14193976\n",
      " 0.14545813 0.1487821  0.15191787 0.15487322 0.15765654 0.16027626\n",
      " 0.16274086 0.16505888 0.16723868 0.16928843 0.1712158  0.17302799\n",
      " 0.17473167 0.17633286 0.17783719 0.17924958 0.18057469 0.18181679\n",
      " 0.18297976 0.18406752 0.18508348 0.18603125 0.18691415 0.18773547\n",
      " 0.18849847 0.18920642 0.18986237 0.1904695  0.1910308  0.19154927\n",
      " 0.19202769 0.19246885 0.19287533 0.19324964 0.19359428 0.19391128\n",
      " 0.1942029  0.19447103 0.19471744 0.1949439  0.19515193 0.19534296\n",
      " 0.19551837 0.1956794  0.19582704 0.19596243 0.19608662 0.19620028\n",
      " 0.19630438 0.19639957 0.19648662 0.19656622 0.19663888 0.1967051\n",
      " 0.19676554 0.19682056 0.19687068 0.19691628 0.19695768 0.19699532\n",
      " 0.19702947 0.19706044 0.19708854 0.19711399 0.19713703 0.19715786\n",
      " 0.19717669 0.19719365 0.19720903 0.19722289 0.19723532 0.19724655\n",
      " 0.19725662 0.19726568 0.19727382 0.19728112 0.19728759 0.19729343\n",
      " 0.19729865 0.19730324 0.19730732 0.19731104]\n",
      "27 day output [[0.19731423]]\n",
      "28 day input [0.0803757  0.08696306 0.09036944 0.09896055 0.10068879 0.0952536\n",
      " 0.09773325 0.09680651 0.10427051 0.11689851 0.11924755 0.12250025\n",
      " 0.12630284 0.13032246 0.13433719 0.13822725 0.14193976 0.14545813\n",
      " 0.1487821  0.15191787 0.15487322 0.15765654 0.16027626 0.16274086\n",
      " 0.16505888 0.16723868 0.16928843 0.1712158  0.17302799 0.17473167\n",
      " 0.17633286 0.17783719 0.17924958 0.18057469 0.18181679 0.18297976\n",
      " 0.18406752 0.18508348 0.18603125 0.18691415 0.18773547 0.18849847\n",
      " 0.18920642 0.18986237 0.1904695  0.1910308  0.19154927 0.19202769\n",
      " 0.19246885 0.19287533 0.19324964 0.19359428 0.19391128 0.1942029\n",
      " 0.19447103 0.19471744 0.1949439  0.19515193 0.19534296 0.19551837\n",
      " 0.1956794  0.19582704 0.19596243 0.19608662 0.19620028 0.19630438\n",
      " 0.19639957 0.19648662 0.19656622 0.19663888 0.1967051  0.19676554\n",
      " 0.19682056 0.19687068 0.19691628 0.19695768 0.19699532 0.19702947\n",
      " 0.19706044 0.19708854 0.19711399 0.19713703 0.19715786 0.19717669\n",
      " 0.19719365 0.19720903 0.19722289 0.19723532 0.19724655 0.19725662\n",
      " 0.19726568 0.19727382 0.19728112 0.19728759 0.19729343 0.19729865\n",
      " 0.19730324 0.19730732 0.19731104 0.19731423]\n",
      "28 day output [[0.19731703]]\n",
      "29 day input [0.08696306 0.09036944 0.09896055 0.10068879 0.0952536  0.09773325\n",
      " 0.09680651 0.10427051 0.11689851 0.11924755 0.12250025 0.12630284\n",
      " 0.13032246 0.13433719 0.13822725 0.14193976 0.14545813 0.1487821\n",
      " 0.15191787 0.15487322 0.15765654 0.16027626 0.16274086 0.16505888\n",
      " 0.16723868 0.16928843 0.1712158  0.17302799 0.17473167 0.17633286\n",
      " 0.17783719 0.17924958 0.18057469 0.18181679 0.18297976 0.18406752\n",
      " 0.18508348 0.18603125 0.18691415 0.18773547 0.18849847 0.18920642\n",
      " 0.18986237 0.1904695  0.1910308  0.19154927 0.19202769 0.19246885\n",
      " 0.19287533 0.19324964 0.19359428 0.19391128 0.1942029  0.19447103\n",
      " 0.19471744 0.1949439  0.19515193 0.19534296 0.19551837 0.1956794\n",
      " 0.19582704 0.19596243 0.19608662 0.19620028 0.19630438 0.19639957\n",
      " 0.19648662 0.19656622 0.19663888 0.1967051  0.19676554 0.19682056\n",
      " 0.19687068 0.19691628 0.19695768 0.19699532 0.19702947 0.19706044\n",
      " 0.19708854 0.19711399 0.19713703 0.19715786 0.19717669 0.19719365\n",
      " 0.19720903 0.19722289 0.19723532 0.19724655 0.19725662 0.19726568\n",
      " 0.19727382 0.19728112 0.19728759 0.19729343 0.19729865 0.19730324\n",
      " 0.19730732 0.19731104 0.19731423 0.19731703]\n",
      "29 day output [[0.1973196]]\n",
      "[[0.19682055711746216], [0.19687068462371826], [0.19691628217697144], [0.19695767760276794], [0.1969953179359436], [0.1970294713973999], [0.19706043601036072], [0.19708853960037231], [0.1971139907836914], [0.1971370279788971], [0.1971578598022461], [0.19717669486999512], [0.19719365239143372], [0.19720903038978577], [0.19722288846969604], [0.1972353160381317], [0.19724655151367188], [0.19725662469863892], [0.19726568460464478], [0.19727382063865662], [0.1972811222076416], [0.19728758931159973], [0.19729343056678772], [0.19729864597320557], [0.19730323553085327], [0.19730731844902039], [0.19731104373931885], [0.19731423258781433], [0.19731703400611877], [0.19731959700584412]]\n"
     ]
    }
   ],
   "source": [
    "#prediction for next 10 days\n",
    "\n",
    "from numpy import array\n",
    "\n",
    "fstst_output=[]\n",
    "n_steps=100\n",
    "i=0\n",
    "while(i<30):\n",
    "    if(len(temp_input)>100):\n",
    "        x_input = np.array(temp_input[1:])\n",
    "        print(\"{} day input {}\".format(i, x_input))\n",
    "        x_input= x_input.reshape(1,-1)\n",
    "        x_input = x_input.reshape((1, n_steps, 1))\n",
    "        \n",
    "        yhat = model.predict(x_input, verbose=0)\n",
    "        print(\"{} day output {}\".format(i, yhat)) \n",
    "        temp_input.extend(yhat[0].tolist())\n",
    "        temp_input=temp_input[1:]\n",
    "                                 \n",
    "        fstst_output.extend(yhat.tolist())\n",
    "        i=i+1\n",
    "    else:\n",
    "        x_input = x_input.reshape((1, n_steps,1))\n",
    "        yhat = model.predict(x_input, verbose=0)\n",
    "        print(yhat[0])\n",
    "        temp_input.extend(yhat[0].tolist())\n",
    "        print(len(temp_input))\n",
    "        fstst_output.extend(yhat.tolist())\n",
    "        i=i+1\n",
    "\n",
    "print(fstst_output)                                      "
   ]
  },
  {
   "cell_type": "code",
   "execution_count": 65,
   "id": "d2ca8be0",
   "metadata": {},
   "outputs": [],
   "source": [
    "day_new= np.arange(1,101)\n",
    "day_pred = np.arange(101, 131)"
   ]
  },
  {
   "cell_type": "code",
   "execution_count": 66,
   "id": "46a75509",
   "metadata": {},
   "outputs": [],
   "source": [
    "import matplotlib.pyplot as plt"
   ]
  },
  {
   "cell_type": "code",
   "execution_count": 59,
   "id": "b192c568",
   "metadata": {},
   "outputs": [
    {
     "data": {
      "text/plain": [
       "1258"
      ]
     },
     "execution_count": 59,
     "metadata": {},
     "output_type": "execute_result"
    }
   ],
   "source": [
    "len(df2)"
   ]
  },
  {
   "cell_type": "code",
   "execution_count": 67,
   "id": "ddcd6a8b",
   "metadata": {},
   "outputs": [],
   "source": [
    "df3 =df2.tolist()\n",
    "df3.extend(fstst_output)"
   ]
  },
  {
   "cell_type": "code",
   "execution_count": 68,
   "id": "8d12bec8",
   "metadata": {},
   "outputs": [
    {
     "data": {
      "text/plain": [
       "[<matplotlib.lines.Line2D at 0x284db1a90>]"
      ]
     },
     "execution_count": 68,
     "metadata": {},
     "output_type": "execute_result"
    },
    {
     "data": {
      "image/png": "[encoded data removed]",
      "text/plain": [
       "<Figure size 432x288 with 1 Axes>"
      ]
     },
     "metadata": {
      "needs_background": "light"
     },
     "output_type": "display_data"
    }
   ],
   "source": [
    "plt.plot(day_new, scaler.inverse_transform(df2[1158:]))\n",
    "plt.plot(day_pred, scaler.inverse_transform(fstst_output))"
   ]
  },
  {
   "cell_type": "code",
   "execution_count": 69,
   "id": "bf6817c8",
   "metadata": {},
   "outputs": [
    {
     "data": {
      "text/plain": [
       "[<matplotlib.lines.Line2D at 0x2829c2790>]"
      ]
     },
     "execution_count": 69,
     "metadata": {},
     "output_type": "execute_result"
    },
    {
     "data": {
      "image/png": "[encoded data removed]",
      "text/plain": [
       "<Figure size 432x288 with 1 Axes>"
      ]
     },
     "metadata": {
      "needs_background": "light"
     },
     "output_type": "display_data"
    }
   ],
   "source": [
    "df3=df2.tolist()\n",
    "df3.extend(fstst_output)\n",
    "plt.plot(df3[1000:])"
   ]
  },
  {
   "cell_type": "markdown",
   "id": "965cad54",
   "metadata": {},
   "source": [
    "ways to improve using bidirectional LSTM"
   ]
  }
 ],
 "metadata": {
  "kernelspec": {
   "display_name": "Python 3.9 (tensorflow)",
   "language": "python",
   "name": "tensorflow"
  },
  "language_info": {
   "codemirror_mode": {
    "name": "ipython",
    "version": 3
   },
   "file_extension": ".py",
   "mimetype": "text/x-python",
   "name": "python",
   "nbconvert_exporter": "python",
   "pygments_lexer": "ipython3",
   "version": "3.9.9"
  }
 },
 "nbformat": 4,
 "nbformat_minor": 5
}
